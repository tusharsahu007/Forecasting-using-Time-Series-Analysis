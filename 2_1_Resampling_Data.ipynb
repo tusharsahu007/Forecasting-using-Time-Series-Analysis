{
 "cells": [
  {
   "attachments": {},
   "cell_type": "markdown",
   "metadata": {},
   "source": [
    "# Resampling\n",
    "Resampling is a method to convert the time-based observed data into a\n",
    "different interval. In other words, it is used to change the time frequency\n",
    "into another time-frequency format. For instance, say we want to change\n",
    "monthly data into a year-wise format or upsample week data into hours.\n",
    "We would perform either upsample or downsample operations. For that,\n",
    "every data object must have a DateTime-like index(Datetimeindex,\n",
    "PeriodIdnex, TimedeltaIndex). The following example illustrates the\n",
    "result of resampling operations in Pandas:"
   ]
  },
  {
   "cell_type": "code",
   "execution_count": 18,
   "metadata": {},
   "outputs": [
    {
     "data": {
      "text/html": [
       "<div>\n",
       "<style scoped>\n",
       "    .dataframe tbody tr th:only-of-type {\n",
       "        vertical-align: middle;\n",
       "    }\n",
       "\n",
       "    .dataframe tbody tr th {\n",
       "        vertical-align: top;\n",
       "    }\n",
       "\n",
       "    .dataframe thead th {\n",
       "        text-align: right;\n",
       "    }\n",
       "</style>\n",
       "<table border=\"1\" class=\"dataframe\">\n",
       "  <thead>\n",
       "    <tr style=\"text-align: right;\">\n",
       "      <th></th>\n",
       "      <th>births</th>\n",
       "    </tr>\n",
       "    <tr>\n",
       "      <th>date</th>\n",
       "      <th></th>\n",
       "    </tr>\n",
       "  </thead>\n",
       "  <tbody>\n",
       "    <tr>\n",
       "      <th>1959-01-01</th>\n",
       "      <td>35.0</td>\n",
       "    </tr>\n",
       "    <tr>\n",
       "      <th>1959-01-02</th>\n",
       "      <td>32.0</td>\n",
       "    </tr>\n",
       "    <tr>\n",
       "      <th>1959-01-03</th>\n",
       "      <td>30.0</td>\n",
       "    </tr>\n",
       "    <tr>\n",
       "      <th>1959-01-04</th>\n",
       "      <td>31.0</td>\n",
       "    </tr>\n",
       "    <tr>\n",
       "      <th>1959-01-05</th>\n",
       "      <td>44.0</td>\n",
       "    </tr>\n",
       "  </tbody>\n",
       "</table>\n",
       "</div>"
      ],
      "text/plain": [
       "            births\n",
       "date              \n",
       "1959-01-01    35.0\n",
       "1959-01-02    32.0\n",
       "1959-01-03    30.0\n",
       "1959-01-04    31.0\n",
       "1959-01-05    44.0"
      ]
     },
     "execution_count": 18,
     "metadata": {},
     "output_type": "execute_result"
    }
   ],
   "source": [
    "import pandas as pd\n",
    "df = pd.read_csv(r'https://raw.githubusercontent.com/FuTSA23/time-series-analysis-datasets/main/daily-total-female-births-CA-with_nulls.csv ',index_col =0, parse_dates=['date'])\n",
    "df.head(5)"
   ]
  },
  {
   "cell_type": "code",
   "execution_count": 17,
   "metadata": {},
   "outputs": [
    {
     "name": "stdout",
     "output_type": "stream",
     "text": [
      "<class 'pandas.core.frame.DataFrame'>\n",
      "DatetimeIndex: 365 entries, 1959-01-01 to 1959-12-31\n",
      "Data columns (total 1 columns):\n",
      " #   Column  Non-Null Count  Dtype  \n",
      "---  ------  --------------  -----  \n",
      " 0   births  349 non-null    float64\n",
      "dtypes: float64(1)\n",
      "memory usage: 5.7 KB\n"
     ]
    }
   ],
   "source": [
    "df.info()"
   ]
  },
  {
   "attachments": {},
   "cell_type": "markdown",
   "metadata": {},
   "source": [
    "## Resampling by Month\n",
    "Here is how to resample by month:"
   ]
  },
  {
   "cell_type": "code",
   "execution_count": 12,
   "metadata": {},
   "outputs": [
    {
     "data": {
      "text/plain": [
       "date\n",
       "1959-01-31    38.592593\n",
       "1959-02-28    40.692308\n",
       "1959-03-31    39.571429\n",
       "1959-04-30    40.103448\n",
       "1959-05-31    38.833333\n",
       "1959-06-30    40.241379\n",
       "1959-07-31    41.935484\n",
       "1959-08-31    43.580645\n",
       "1959-09-30    48.551724\n",
       "1959-10-31    44.129032\n",
       "1959-11-30    45.000000\n",
       "1959-12-31    42.758621\n",
       "Freq: M, Name: births, dtype: float64"
      ]
     },
     "execution_count": 12,
     "metadata": {},
     "output_type": "execute_result"
    }
   ],
   "source": [
    "df.births.resample('M').mean()\n"
   ]
  },
  {
   "attachments": {},
   "cell_type": "markdown",
   "metadata": {},
   "source": [
    "## Resampling by Quarter\n",
    "Here is how to resample by quarter:"
   ]
  },
  {
   "cell_type": "code",
   "execution_count": 13,
   "metadata": {},
   "outputs": [
    {
     "data": {
      "text/plain": [
       "date\n",
       "1959-03-31    39.604938\n",
       "1959-06-30    39.715909\n",
       "1959-09-30    44.604396\n",
       "1959-12-31    43.966292\n",
       "Freq: Q-DEC, Name: births, dtype: float64"
      ]
     },
     "execution_count": 13,
     "metadata": {},
     "output_type": "execute_result"
    }
   ],
   "source": [
    "df.births.resample('Q').mean()\n"
   ]
  },
  {
   "attachments": {},
   "cell_type": "markdown",
   "metadata": {},
   "source": [
    "## Resampling by Year\n",
    "Here is how to resample by year:"
   ]
  },
  {
   "cell_type": "code",
   "execution_count": 14,
   "metadata": {},
   "outputs": [
    {
     "data": {
      "text/plain": [
       "date\n",
       "1959-12-31    42.048711\n",
       "Freq: A-DEC, Name: births, dtype: float64"
      ]
     },
     "execution_count": 14,
     "metadata": {},
     "output_type": "execute_result"
    }
   ],
   "source": [
    "df.births.resample('Y').mean()"
   ]
  },
  {
   "attachments": {},
   "cell_type": "markdown",
   "metadata": {},
   "source": [
    "## Resampling by Week\n",
    "Here is how to resample by week:"
   ]
  },
  {
   "cell_type": "code",
   "execution_count": 15,
   "metadata": {},
   "outputs": [
    {
     "data": {
      "text/plain": [
       "date\n",
       "1959-01-04    32.000000\n",
       "1959-01-11    36.833333\n",
       "1959-01-18    42.500000\n",
       "1959-01-25    43.000000\n",
       "1959-02-01    35.142857\n",
       "1959-02-08    39.833333\n",
       "1959-02-15    42.857143\n",
       "1959-02-22    41.833333\n",
       "1959-03-01    40.000000\n",
       "1959-03-08    40.000000\n",
       "1959-03-15    36.571429\n",
       "1959-03-22    40.666667\n",
       "1959-03-29    40.333333\n",
       "1959-04-05    41.142857\n",
       "1959-04-12    37.857143\n",
       "1959-04-19    38.166667\n",
       "1959-04-26    40.142857\n",
       "1959-05-03    42.285714\n",
       "1959-05-10    39.000000\n",
       "1959-05-17    37.428571\n",
       "1959-05-24    42.000000\n",
       "1959-05-31    39.000000\n",
       "1959-06-07    42.142857\n",
       "1959-06-14    39.857143\n",
       "1959-06-21    36.500000\n",
       "1959-06-28    39.142857\n",
       "1959-07-05    44.000000\n",
       "1959-07-12    44.285714\n",
       "1959-07-19    41.142857\n",
       "1959-07-26    40.285714\n",
       "1959-08-02    43.000000\n",
       "1959-08-09    44.571429\n",
       "1959-08-16    43.285714\n",
       "1959-08-23    40.857143\n",
       "1959-08-30    45.285714\n",
       "1959-09-06    48.166667\n",
       "1959-09-13    45.571429\n",
       "1959-09-20    45.857143\n",
       "1959-09-27    52.714286\n",
       "1959-10-04    51.428571\n",
       "1959-10-11    45.000000\n",
       "1959-10-18    46.714286\n",
       "1959-10-25    40.857143\n",
       "1959-11-01    40.285714\n",
       "1959-11-08    48.500000\n",
       "1959-11-15    39.571429\n",
       "1959-11-22    42.285714\n",
       "1959-11-29    48.714286\n",
       "1959-12-06    40.428571\n",
       "1959-12-13    40.666667\n",
       "1959-12-20    44.857143\n",
       "1959-12-27    41.000000\n",
       "1960-01-03    51.250000\n",
       "Freq: W-SUN, Name: births, dtype: float64"
      ]
     },
     "execution_count": 15,
     "metadata": {},
     "output_type": "execute_result"
    }
   ],
   "source": [
    "df.births.resample('W').mean()"
   ]
  },
  {
   "attachments": {},
   "cell_type": "markdown",
   "metadata": {},
   "source": [
    "## Resampling on a Semimonthly Basis\n",
    "Here is how to resample on a semimonthly basis:"
   ]
  },
  {
   "cell_type": "code",
   "execution_count": 16,
   "metadata": {},
   "outputs": [
    {
     "data": {
      "text/plain": [
       "date\n",
       "1958-12-31    35.750000\n",
       "1959-01-15    42.071429\n",
       "1959-01-31    38.142857\n",
       "1959-02-15    43.166667\n",
       "1959-02-28    38.142857\n",
       "1959-03-15    40.214286\n",
       "1959-03-31    38.333333\n",
       "1959-04-15    41.285714\n",
       "1959-04-30    39.133333\n",
       "1959-05-15    39.400000\n",
       "1959-05-31    40.800000\n",
       "1959-06-15    38.142857\n",
       "1959-06-30    43.733333\n",
       "1959-07-15    41.375000\n",
       "1959-07-31    43.733333\n",
       "1959-08-15    43.250000\n",
       "1959-08-31    45.857143\n",
       "1959-09-15    50.266667\n",
       "1959-09-30    47.800000\n",
       "1959-10-15    41.312500\n",
       "1959-10-31    44.428571\n",
       "1959-11-15    45.133333\n",
       "1959-11-30    41.357143\n",
       "1959-12-15    44.200000\n",
       "1959-12-31    50.000000\n",
       "Freq: SM-15, Name: births, dtype: float64"
      ]
     },
     "execution_count": 16,
     "metadata": {},
     "output_type": "execute_result"
    }
   ],
   "source": [
    "df.births.resample('SM').mean()"
   ]
  }
 ],
 "metadata": {
  "kernelspec": {
   "display_name": "Python 3",
   "language": "python",
   "name": "python3"
  },
  "language_info": {
   "codemirror_mode": {
    "name": "ipython",
    "version": 3
   },
   "file_extension": ".py",
   "mimetype": "text/x-python",
   "name": "python",
   "nbconvert_exporter": "python",
   "pygments_lexer": "ipython3",
   "version": "3.10.5"
  },
  "orig_nbformat": 4
 },
 "nbformat": 4,
 "nbformat_minor": 2
}
