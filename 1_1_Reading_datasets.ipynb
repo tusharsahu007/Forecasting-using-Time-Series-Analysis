{
  "cells": [
    {
      "cell_type": "code",
      "execution_count": 1,
      "id": "4660018a-5d90-4eca-8951-edc66f1c86c5",
      "metadata": {
        "colab": {
          "base_uri": "https://localhost:8080/"
        },
        "id": "4660018a-5d90-4eca-8951-edc66f1c86c5",
        "outputId": "afcf5d37-6311-452a-a130-0597c4d0c252"
      },
      "outputs": [],
      "source": [
        "\n",
        "!pip install pandas --quiet"
      ]
    },
    {
      "attachments": {},
      "cell_type": "markdown",
      "id": "897f0066-a7fa-4f2a-a0e6-f93a1ba92384",
      "metadata": {
        "id": "897f0066-a7fa-4f2a-a0e6-f93a1ba92384"
      },
      "source": [
        "\n",
        "## *Reading Time Series Data from Files*, \n",
        "\n",
        "This notebook is an introduction to time series data. This file shows you how to read data from various and commonly used file\n",
        "types, whether stored locally or on the cloud. The techniques will highlight advanced options\n",
        "for ingesting, preparing, and transforming data into a time series DataFrame for\n",
        "later analysis.  \n",
        "\n",
        "We will cover the following Methods on how to ingest data into a pandas DataFrame:\n",
        "* Reading data from CSVs and other delimited files\n",
        "* Reading data from an Excel file\n",
        "* Reading data from URLs\n"
      ]
    },
    {
      "attachments": {},
      "cell_type": "markdown",
      "id": "cc1f3dac-5f42-4c0d-ae98-80dafb21bc25",
      "metadata": {
        "id": "cc1f3dac-5f42-4c0d-ae98-80dafb21bc25"
      },
      "source": [
        "# Method 1: Reading from CSVs and Other Delimited Files\n",
        "In this Method, you will use the `pandas.read_csv()` function, which offers a large set\n",
        "of parameters that you will explore to ensure the data is properly read into a time series\n",
        "DataFrame. In addition, you will learn how to specify an index column, parse the index\n",
        "to be of the type `DatetimeIndex`, and parse string columns that contain dates into\n",
        "datetime objects.\n",
        "\n",
        "[Official Documentation of pandas.read_csv](https://pandas.pydata.org/docs/reference/api/pandas.read_csv.html)"
      ]
    },
    {
      "cell_type": "code",
      "execution_count": 2,
      "id": "0ecc3461-43e2-4c09-945c-033f8eff4342",
      "metadata": {
        "colab": {
          "base_uri": "https://localhost:8080/",
          "height": 35
        },
        "id": "0ecc3461-43e2-4c09-945c-033f8eff4342",
        "outputId": "4f0a186a-0dc5-4ead-ddce-7044990e7afb"
      },
      "outputs": [
        {
          "data": {
            "text/plain": [
              "'2.0.0'"
            ]
          },
          "execution_count": 2,
          "metadata": {},
          "output_type": "execute_result"
        }
      ],
      "source": [
        "import pandas as pd\n",
        "from pathlib import Path\n",
        "pd.__version__"
      ]
    },
    {
      "cell_type": "code",
      "execution_count": 4,
      "id": "ffcaab98-7d62-4f82-97ed-85f8c1d8b820",
      "metadata": {
        "id": "ffcaab98-7d62-4f82-97ed-85f8c1d8b820"
      },
      "outputs": [],
      "source": [
        "filepath = Path('./movieboxoffice.csv')\n",
        "\n",
        "# the 'movieboxoffice.csv' should be in the same directory as this notebook file for the above to work, else specify the correct path as per your directory structure"
      ]
    },
    {
      "cell_type": "code",
      "execution_count": 7,
      "id": "aa33d6f8-d21d-4c67-9231-97593196306d",
      "metadata": {
        "colab": {
          "base_uri": "https://localhost:8080/",
          "height": 237
        },
        "id": "aa33d6f8-d21d-4c67-9231-97593196306d",
        "outputId": "f6f92c17-4421-403c-9dce-69db6805ae62"
      },
      "outputs": [
        {
          "name": "stderr",
          "output_type": "stream",
          "text": [
            "C:\\Users\\mailt\\AppData\\Local\\Temp\\ipykernel_6276\\1783708044.py:1: UserWarning: Could not infer format, so each element will be parsed individually, falling back to `dateutil`. To ensure parsing is consistent and as-expected, please specify a format.\n",
            "  ts = pd.read_csv(filepath, header=0, parse_dates=['Date'], index_col=0, usecols=['Date','DOW','Daily','Forecast','Percent Diff'])\n"
          ]
        },
        {
          "data": {
            "text/html": [
              "<div>\n",
              "<style scoped>\n",
              "    .dataframe tbody tr th:only-of-type {\n",
              "        vertical-align: middle;\n",
              "    }\n",
              "\n",
              "    .dataframe tbody tr th {\n",
              "        vertical-align: top;\n",
              "    }\n",
              "\n",
              "    .dataframe thead th {\n",
              "        text-align: right;\n",
              "    }\n",
              "</style>\n",
              "<table border=\"1\" class=\"dataframe\">\n",
              "  <thead>\n",
              "    <tr style=\"text-align: right;\">\n",
              "      <th></th>\n",
              "      <th>DOW</th>\n",
              "      <th>Daily</th>\n",
              "      <th>Forecast</th>\n",
              "      <th>Percent Diff</th>\n",
              "    </tr>\n",
              "    <tr>\n",
              "      <th>Date</th>\n",
              "      <th></th>\n",
              "      <th></th>\n",
              "      <th></th>\n",
              "      <th></th>\n",
              "    </tr>\n",
              "  </thead>\n",
              "  <tbody>\n",
              "    <tr>\n",
              "      <th>2021-04-26</th>\n",
              "      <td>Friday</td>\n",
              "      <td>$125,789.89</td>\n",
              "      <td>$235,036.46</td>\n",
              "      <td>-46.48%</td>\n",
              "    </tr>\n",
              "    <tr>\n",
              "      <th>2021-04-27</th>\n",
              "      <td>Saturday</td>\n",
              "      <td>$99,374.01</td>\n",
              "      <td>$197,622.55</td>\n",
              "      <td>-49.72%</td>\n",
              "    </tr>\n",
              "    <tr>\n",
              "      <th>2021-04-28</th>\n",
              "      <td>Sunday</td>\n",
              "      <td>$82,203.16</td>\n",
              "      <td>$116,991.26</td>\n",
              "      <td>-29.74%</td>\n",
              "    </tr>\n",
              "    <tr>\n",
              "      <th>2021-04-29</th>\n",
              "      <td>Monday</td>\n",
              "      <td>$33,530.26</td>\n",
              "      <td>$66,652.65</td>\n",
              "      <td>-49.69%</td>\n",
              "    </tr>\n",
              "    <tr>\n",
              "      <th>2021-04-30</th>\n",
              "      <td>Tuesday</td>\n",
              "      <td>$30,105.24</td>\n",
              "      <td>$34,828.19</td>\n",
              "      <td>-13.56%</td>\n",
              "    </tr>\n",
              "  </tbody>\n",
              "</table>\n",
              "</div>"
            ],
            "text/plain": [
              "                 DOW          Daily       Forecast Percent Diff\n",
              "Date                                                           \n",
              "2021-04-26    Friday   $125,789.89    $235,036.46       -46.48%\n",
              "2021-04-27  Saturday    $99,374.01    $197,622.55       -49.72%\n",
              "2021-04-28    Sunday    $82,203.16    $116,991.26       -29.74%\n",
              "2021-04-29    Monday    $33,530.26     $66,652.65       -49.69%\n",
              "2021-04-30   Tuesday    $30,105.24     $34,828.19       -13.56%"
            ]
          },
          "execution_count": 7,
          "metadata": {},
          "output_type": "execute_result"
        }
      ],
      "source": [
        "ts = pd.read_csv(filepath, header=0, parse_dates=['Date'], index_col=0, usecols=['Date','DOW','Daily','Forecast','Percent Diff'])\n",
        "ts.head()"
      ]
    },
    {
      "attachments": {},
      "cell_type": "markdown",
      "id": "6xurLn9vjw0c",
      "metadata": {
        "id": "6xurLn9vjw0c"
      },
      "source": [
        "The first column in the CSV file contains movie release dates, and it needs to\n",
        "be set as an index of type `DatetimeIndex` (`index_col=0` and `parse_\n",
        "dates=['Date']`). Specify which columns you want to include by providing a list\n",
        "of column names to `usecols`. The default behavior is that the first row includes the\n",
        "header (`header=0`).\n",
        "\n",
        "Print a summary of the `DataFrame` to check the index and column data types:"
      ]
    },
    {
      "cell_type": "code",
      "execution_count": 12,
      "id": "14b0182e-98be-4c79-8db9-2ed76a182813",
      "metadata": {
        "colab": {
          "base_uri": "https://localhost:8080/"
        },
        "id": "14b0182e-98be-4c79-8db9-2ed76a182813",
        "outputId": "9f00744d-11dd-4fc5-c972-1a2e48570b95"
      },
      "outputs": [
        {
          "name": "stdout",
          "output_type": "stream",
          "text": [
            "<class 'pandas.core.frame.DataFrame'>\n",
            "DatetimeIndex: 128 entries, 2021-04-26 to 2021-08-31\n",
            "Data columns (total 4 columns):\n",
            " #   Column        Non-Null Count  Dtype  \n",
            "---  ------        --------------  -----  \n",
            " 0   DOW           128 non-null    object \n",
            " 1   Daily         128 non-null    float64\n",
            " 2   Forecast      128 non-null    float64\n",
            " 3   Percent Diff  128 non-null    object \n",
            "dtypes: float64(2), object(2)\n",
            "memory usage: 5.0+ KB\n"
          ]
        }
      ],
      "source": [
        "ts.info()\n",
        "\n",
        "# notice the dtype of Daily and Forecast column entries. They should be numeric and not object, right?"
      ]
    },
    {
      "cell_type": "code",
      "execution_count": 9,
      "id": "275fb8e6",
      "metadata": {},
      "outputs": [
        {
          "data": {
            "text/html": [
              "<div>\n",
              "<style scoped>\n",
              "    .dataframe tbody tr th:only-of-type {\n",
              "        vertical-align: middle;\n",
              "    }\n",
              "\n",
              "    .dataframe tbody tr th {\n",
              "        vertical-align: top;\n",
              "    }\n",
              "\n",
              "    .dataframe thead th {\n",
              "        text-align: right;\n",
              "    }\n",
              "</style>\n",
              "<table border=\"1\" class=\"dataframe\">\n",
              "  <thead>\n",
              "    <tr style=\"text-align: right;\">\n",
              "      <th></th>\n",
              "      <th>DOW</th>\n",
              "      <th>Daily</th>\n",
              "      <th>Forecast</th>\n",
              "      <th>Percent Diff</th>\n",
              "    </tr>\n",
              "  </thead>\n",
              "  <tbody>\n",
              "    <tr>\n",
              "      <th>count</th>\n",
              "      <td>128</td>\n",
              "      <td>128</td>\n",
              "      <td>128</td>\n",
              "      <td>128</td>\n",
              "    </tr>\n",
              "    <tr>\n",
              "      <th>unique</th>\n",
              "      <td>7</td>\n",
              "      <td>123</td>\n",
              "      <td>124</td>\n",
              "      <td>128</td>\n",
              "    </tr>\n",
              "    <tr>\n",
              "      <th>top</th>\n",
              "      <td>Friday</td>\n",
              "      <td>$0.00</td>\n",
              "      <td>$0.00</td>\n",
              "      <td>-46.48%</td>\n",
              "    </tr>\n",
              "    <tr>\n",
              "      <th>freq</th>\n",
              "      <td>19</td>\n",
              "      <td>5</td>\n",
              "      <td>4</td>\n",
              "      <td>1</td>\n",
              "    </tr>\n",
              "  </tbody>\n",
              "</table>\n",
              "</div>"
            ],
            "text/plain": [
              "           DOW    Daily Forecast Percent Diff\n",
              "count      128      128      128          128\n",
              "unique       7      123      124          128\n",
              "top     Friday   $0.00    $0.00       -46.48%\n",
              "freq        19        5        4            1"
            ]
          },
          "execution_count": 9,
          "metadata": {},
          "output_type": "execute_result"
        }
      ],
      "source": [
        "ts.describe()"
      ]
    },
    {
      "attachments": {},
      "cell_type": "markdown",
      "id": "07775018-5134-4ec4-ac7b-68b5634eb9ad",
      "metadata": {
        "id": "07775018-5134-4ec4-ac7b-68b5634eb9ad"
      },
      "source": [
        "## **Data Cleanup**\n",
        "* Notice that the `Date` column is now an `index` (not a `column`) of type\n",
        "`DatetimeIndex`. Additionally, both Daily and Forecast columns have the\n",
        "wrong `dtype inference`. \n",
        "* You would expect them to be of type `float`. The issue is\n",
        "due to the source CSV file containing dollar signs ($) and thousand separators (,)\n",
        "in both columns.\n",
        "* To fix this, you need to remove both the dollar sign ($) and thousand separators (,)\n",
        "or any non-numeric character. You can accomplish this using `str.replace()`,\n",
        "which can take a regular expression to remove all non-numeric characters but\n",
        "exclude the period (.) for the decimal place. \n",
        "Removing these characters does not convert the `dtype`, so you will need to \"cast\" those two columns as a `float dtype`\n",
        "using `.astype(float)`"
      ]
    },
    {
      "cell_type": "code",
      "execution_count": 10,
      "id": "df34d125-5ad8-41c2-a6c4-09145605891b",
      "metadata": {
        "id": "df34d125-5ad8-41c2-a6c4-09145605891b"
      },
      "outputs": [],
      "source": [
        "clean = lambda x: x.str.replace('[^\\d]', '', regex=True)                                                      \n",
        "c_df = ts[['Daily', 'Forecast']].apply(clean, axis=1)\n",
        "ts[['Daily', 'Forecast']] = c_df.astype(float)"
      ]
    },
    {
      "cell_type": "code",
      "execution_count": 11,
      "id": "ae90d0a0-02e4-4a48-8bed-2fea8d612252",
      "metadata": {
        "colab": {
          "base_uri": "https://localhost:8080/",
          "height": 237
        },
        "id": "ae90d0a0-02e4-4a48-8bed-2fea8d612252",
        "outputId": "62917589-6358-486f-ea6e-df13f6a4ee7e"
      },
      "outputs": [
        {
          "data": {
            "text/html": [
              "<div>\n",
              "<style scoped>\n",
              "    .dataframe tbody tr th:only-of-type {\n",
              "        vertical-align: middle;\n",
              "    }\n",
              "\n",
              "    .dataframe tbody tr th {\n",
              "        vertical-align: top;\n",
              "    }\n",
              "\n",
              "    .dataframe thead th {\n",
              "        text-align: right;\n",
              "    }\n",
              "</style>\n",
              "<table border=\"1\" class=\"dataframe\">\n",
              "  <thead>\n",
              "    <tr style=\"text-align: right;\">\n",
              "      <th></th>\n",
              "      <th>DOW</th>\n",
              "      <th>Daily</th>\n",
              "      <th>Forecast</th>\n",
              "      <th>Percent Diff</th>\n",
              "    </tr>\n",
              "    <tr>\n",
              "      <th>Date</th>\n",
              "      <th></th>\n",
              "      <th></th>\n",
              "      <th></th>\n",
              "      <th></th>\n",
              "    </tr>\n",
              "  </thead>\n",
              "  <tbody>\n",
              "    <tr>\n",
              "      <th>2021-04-26</th>\n",
              "      <td>Friday</td>\n",
              "      <td>12578989.0</td>\n",
              "      <td>23503646.0</td>\n",
              "      <td>-46.48%</td>\n",
              "    </tr>\n",
              "    <tr>\n",
              "      <th>2021-04-27</th>\n",
              "      <td>Saturday</td>\n",
              "      <td>9937401.0</td>\n",
              "      <td>19762255.0</td>\n",
              "      <td>-49.72%</td>\n",
              "    </tr>\n",
              "    <tr>\n",
              "      <th>2021-04-28</th>\n",
              "      <td>Sunday</td>\n",
              "      <td>8220316.0</td>\n",
              "      <td>11699126.0</td>\n",
              "      <td>-29.74%</td>\n",
              "    </tr>\n",
              "    <tr>\n",
              "      <th>2021-04-29</th>\n",
              "      <td>Monday</td>\n",
              "      <td>3353026.0</td>\n",
              "      <td>6665265.0</td>\n",
              "      <td>-49.69%</td>\n",
              "    </tr>\n",
              "    <tr>\n",
              "      <th>2021-04-30</th>\n",
              "      <td>Tuesday</td>\n",
              "      <td>3010524.0</td>\n",
              "      <td>3482819.0</td>\n",
              "      <td>-13.56%</td>\n",
              "    </tr>\n",
              "  </tbody>\n",
              "</table>\n",
              "</div>"
            ],
            "text/plain": [
              "                 DOW       Daily    Forecast Percent Diff\n",
              "Date                                                     \n",
              "2021-04-26    Friday  12578989.0  23503646.0      -46.48%\n",
              "2021-04-27  Saturday   9937401.0  19762255.0      -49.72%\n",
              "2021-04-28    Sunday   8220316.0  11699126.0      -29.74%\n",
              "2021-04-29    Monday   3353026.0   6665265.0      -49.69%\n",
              "2021-04-30   Tuesday   3010524.0   3482819.0      -13.56%"
            ]
          },
          "execution_count": 11,
          "metadata": {},
          "output_type": "execute_result"
        }
      ],
      "source": [
        "ts.head()"
      ]
    },
    {
      "cell_type": "code",
      "execution_count": 13,
      "id": "3fa8c60e-c65e-48af-b6f7-86644492d107",
      "metadata": {
        "colab": {
          "base_uri": "https://localhost:8080/"
        },
        "id": "3fa8c60e-c65e-48af-b6f7-86644492d107",
        "outputId": "a61ac224-6e21-4a5d-daf2-5888b7b4a718"
      },
      "outputs": [
        {
          "name": "stdout",
          "output_type": "stream",
          "text": [
            "<class 'pandas.core.frame.DataFrame'>\n",
            "DatetimeIndex: 128 entries, 2021-04-26 to 2021-08-31\n",
            "Data columns (total 4 columns):\n",
            " #   Column        Non-Null Count  Dtype  \n",
            "---  ------        --------------  -----  \n",
            " 0   DOW           128 non-null    object \n",
            " 1   Daily         128 non-null    float64\n",
            " 2   Forecast      128 non-null    float64\n",
            " 3   Percent Diff  128 non-null    object \n",
            "dtypes: float64(2), object(2)\n",
            "memory usage: 5.0+ KB\n"
          ]
        }
      ],
      "source": [
        "ts.info()"
      ]
    },
    {
      "cell_type": "code",
      "execution_count": 16,
      "id": "329f83fb",
      "metadata": {},
      "outputs": [
        {
          "data": {
            "text/html": [
              "<div>\n",
              "<style scoped>\n",
              "    .dataframe tbody tr th:only-of-type {\n",
              "        vertical-align: middle;\n",
              "    }\n",
              "\n",
              "    .dataframe tbody tr th {\n",
              "        vertical-align: top;\n",
              "    }\n",
              "\n",
              "    .dataframe thead th {\n",
              "        text-align: right;\n",
              "    }\n",
              "</style>\n",
              "<table border=\"1\" class=\"dataframe\">\n",
              "  <thead>\n",
              "    <tr style=\"text-align: right;\">\n",
              "      <th></th>\n",
              "      <th>Daily</th>\n",
              "      <th>Forecast</th>\n",
              "    </tr>\n",
              "  </thead>\n",
              "  <tbody>\n",
              "    <tr>\n",
              "      <th>count</th>\n",
              "      <td>1.280000e+02</td>\n",
              "      <td>1.280000e+02</td>\n",
              "    </tr>\n",
              "    <tr>\n",
              "      <th>mean</th>\n",
              "      <td>5.876124e+05</td>\n",
              "      <td>9.366103e+05</td>\n",
              "    </tr>\n",
              "    <tr>\n",
              "      <th>std</th>\n",
              "      <td>1.755046e+06</td>\n",
              "      <td>3.082168e+06</td>\n",
              "    </tr>\n",
              "    <tr>\n",
              "      <th>min</th>\n",
              "      <td>0.000000e+00</td>\n",
              "      <td>0.000000e+00</td>\n",
              "    </tr>\n",
              "    <tr>\n",
              "      <th>25%</th>\n",
              "      <td>5.636750e+03</td>\n",
              "      <td>9.266750e+03</td>\n",
              "    </tr>\n",
              "    <tr>\n",
              "      <th>50%</th>\n",
              "      <td>4.266750e+04</td>\n",
              "      <td>6.523100e+04</td>\n",
              "    </tr>\n",
              "    <tr>\n",
              "      <th>75%</th>\n",
              "      <td>1.927085e+05</td>\n",
              "      <td>2.893818e+05</td>\n",
              "    </tr>\n",
              "    <tr>\n",
              "      <th>max</th>\n",
              "      <td>1.257899e+07</td>\n",
              "      <td>2.350365e+07</td>\n",
              "    </tr>\n",
              "  </tbody>\n",
              "</table>\n",
              "</div>"
            ],
            "text/plain": [
              "              Daily      Forecast\n",
              "count  1.280000e+02  1.280000e+02\n",
              "mean   5.876124e+05  9.366103e+05\n",
              "std    1.755046e+06  3.082168e+06\n",
              "min    0.000000e+00  0.000000e+00\n",
              "25%    5.636750e+03  9.266750e+03\n",
              "50%    4.266750e+04  6.523100e+04\n",
              "75%    1.927085e+05  2.893818e+05\n",
              "max    1.257899e+07  2.350365e+07"
            ]
          },
          "execution_count": 16,
          "metadata": {},
          "output_type": "execute_result"
        }
      ],
      "source": [
        "ts.describe()"
      ]
    },
    {
      "cell_type": "markdown",
      "id": "IVk0yZzGmHqc",
      "metadata": {
        "id": "IVk0yZzGmHqc"
      },
      "source": [
        "To get the exact memory usage for each column, including the index, you can\n",
        "use the memory_usage() method:"
      ]
    },
    {
      "cell_type": "code",
      "execution_count": 17,
      "id": "367af7b5-e8e3-4fc6-aa25-48ab82c4eead",
      "metadata": {
        "colab": {
          "base_uri": "https://localhost:8080/"
        },
        "id": "367af7b5-e8e3-4fc6-aa25-48ab82c4eead",
        "outputId": "d8c5c9a3-b268-4a57-9564-38ff1b94754c"
      },
      "outputs": [
        {
          "data": {
            "text/plain": [
              "Index           1024\n",
              "DOW             1024\n",
              "Daily           1024\n",
              "Forecast        1024\n",
              "Percent Diff    1024\n",
              "dtype: int64"
            ]
          },
          "execution_count": 17,
          "metadata": {},
          "output_type": "execute_result"
        }
      ],
      "source": [
        "ts.memory_usage()\n",
        "\n",
        "# ts.memory_usage().sum()"
      ]
    },
    {
      "cell_type": "markdown",
      "id": "w_hgBpssmWmU",
      "metadata": {
        "id": "w_hgBpssmWmU"
      },
      "source": [
        "So far, you have used a few of the available parameters when reading a CSV file using\n",
        "read_csv."
      ]
    },
    {
      "cell_type": "markdown",
      "id": "e6212e1e-caf4-47e9-b8f3-2db31a9ebcd8",
      "metadata": {
        "id": "e6212e1e-caf4-47e9-b8f3-2db31a9ebcd8"
      },
      "source": [
        "## Using `date_parser`"
      ]
    },
    {
      "cell_type": "code",
      "execution_count": 18,
      "id": "5b4759cf-8747-405f-ba15-77cd10493a4c",
      "metadata": {
        "colab": {
          "base_uri": "https://localhost:8080/"
        },
        "id": "5b4759cf-8747-405f-ba15-77cd10493a4c",
        "outputId": "c77ab017-d13d-497e-9c24-803341c96cd1"
      },
      "outputs": [
        {
          "data": {
            "text/plain": [
              "DOW              object\n",
              "Daily           float64\n",
              "Forecast        float64\n",
              "Percent Diff     object\n",
              "dtype: object"
            ]
          },
          "execution_count": 18,
          "metadata": {},
          "output_type": "execute_result"
        }
      ],
      "source": [
        "ts.dtypes"
      ]
    },
    {
      "attachments": {},
      "cell_type": "markdown",
      "id": "K5WSxk9Jpxir",
      "metadata": {
        "id": "K5WSxk9Jpxir"
      },
      "source": [
        "You can also pass a lambda function that uses the `to_datetime` function in\n",
        "pandas to `date_parser`. You can specify the string representation for the date format\n",
        "inside `to_datetime()`, as demonstrated in the following code:"
      ]
    },
    {
      "cell_type": "code",
      "execution_count": 21,
      "id": "ee32b5de-0b27-4512-8aab-d0c5ebfad850",
      "metadata": {
        "id": "ee32b5de-0b27-4512-8aab-d0c5ebfad850",
        "outputId": "672aac61-9d0d-41f8-c361-8f7409aab6f5",
        "tags": []
      },
      "outputs": [
        {
          "name": "stderr",
          "output_type": "stream",
          "text": [
            "C:\\Users\\mailt\\AppData\\Local\\Temp\\ipykernel_6276\\4043552452.py:2: FutureWarning: The argument 'date_parser' is deprecated and will be removed in a future version. Please use 'date_format' instead, or read your data in as 'object' dtype and then call 'to_datetime'.\n",
            "  ts = pd.read_csv(filepath,\n"
          ]
        },
        {
          "data": {
            "text/html": [
              "<div>\n",
              "<style scoped>\n",
              "    .dataframe tbody tr th:only-of-type {\n",
              "        vertical-align: middle;\n",
              "    }\n",
              "\n",
              "    .dataframe tbody tr th {\n",
              "        vertical-align: top;\n",
              "    }\n",
              "\n",
              "    .dataframe thead th {\n",
              "        text-align: right;\n",
              "    }\n",
              "</style>\n",
              "<table border=\"1\" class=\"dataframe\">\n",
              "  <thead>\n",
              "    <tr style=\"text-align: right;\">\n",
              "      <th></th>\n",
              "      <th>DOW</th>\n",
              "      <th>Daily</th>\n",
              "      <th>Forecast</th>\n",
              "      <th>Percent Diff</th>\n",
              "    </tr>\n",
              "    <tr>\n",
              "      <th>Date</th>\n",
              "      <th></th>\n",
              "      <th></th>\n",
              "      <th></th>\n",
              "      <th></th>\n",
              "    </tr>\n",
              "  </thead>\n",
              "  <tbody>\n",
              "    <tr>\n",
              "      <th>2021-04-26</th>\n",
              "      <td>Friday</td>\n",
              "      <td>$125,789.89</td>\n",
              "      <td>$235,036.46</td>\n",
              "      <td>-46.48%</td>\n",
              "    </tr>\n",
              "    <tr>\n",
              "      <th>2021-04-27</th>\n",
              "      <td>Saturday</td>\n",
              "      <td>$99,374.01</td>\n",
              "      <td>$197,622.55</td>\n",
              "      <td>-49.72%</td>\n",
              "    </tr>\n",
              "    <tr>\n",
              "      <th>2021-04-28</th>\n",
              "      <td>Sunday</td>\n",
              "      <td>$82,203.16</td>\n",
              "      <td>$116,991.26</td>\n",
              "      <td>-29.74%</td>\n",
              "    </tr>\n",
              "    <tr>\n",
              "      <th>2021-04-29</th>\n",
              "      <td>Monday</td>\n",
              "      <td>$33,530.26</td>\n",
              "      <td>$66,652.65</td>\n",
              "      <td>-49.69%</td>\n",
              "    </tr>\n",
              "    <tr>\n",
              "      <th>2021-04-30</th>\n",
              "      <td>Tuesday</td>\n",
              "      <td>$30,105.24</td>\n",
              "      <td>$34,828.19</td>\n",
              "      <td>-13.56%</td>\n",
              "    </tr>\n",
              "  </tbody>\n",
              "</table>\n",
              "</div>"
            ],
            "text/plain": [
              "                 DOW          Daily       Forecast Percent Diff\n",
              "Date                                                           \n",
              "2021-04-26    Friday   $125,789.89    $235,036.46       -46.48%\n",
              "2021-04-27  Saturday    $99,374.01    $197,622.55       -49.72%\n",
              "2021-04-28    Sunday    $82,203.16    $116,991.26       -29.74%\n",
              "2021-04-29    Monday    $33,530.26     $66,652.65       -49.69%\n",
              "2021-04-30   Tuesday    $30,105.24     $34,828.19       -13.56%"
            ]
          },
          "execution_count": 21,
          "metadata": {},
          "output_type": "execute_result"
        }
      ],
      "source": [
        "date_parser = lambda x: pd.to_datetime(x, format=\"%d-%b-%y\")\n",
        "ts = pd.read_csv(filepath,\n",
        "                 parse_dates=[0],\n",
        "                 index_col=0,\n",
        "                 date_parser=date_parser,\n",
        "                 usecols=[0,1,3, 7, 6])\n",
        "ts.head()"
      ]
    },
    {
      "attachments": {},
      "cell_type": "markdown",
      "id": "5962c5ce",
      "metadata": {},
      "source": [
        "The preceding code will print out the first five rows of the ts DataFrame displaying\n",
        "a properly parsed Date index."
      ]
    },
    {
      "attachments": {},
      "cell_type": "markdown",
      "id": "TFekAWW3p_o8",
      "metadata": {
        "id": "TFekAWW3p_o8"
      },
      "source": [
        "Let's break it down. In the preceding code, you passed two arguments to the `to_datetime` function: the object to convert to datetime and an `explicit format string`.\n",
        "Since the date is stored as a string in the form `26-Apr-21`, you passed `\"%d-%b-%y\"` to\n",
        "reflect that:\n",
        "* %d represents the day of the month, such as 01 or 02.\n",
        "* %b represents the abbreviated month name, such as Apr or May.\n",
        "* %y represents a two-digit year, such as 19 or 20."
      ]
    },
    {
      "attachments": {},
      "cell_type": "markdown",
      "id": "c1f2c015-77b6-4e59-b300-79df45c13c9f",
      "metadata": {
        "id": "c1f2c015-77b6-4e59-b300-79df45c13c9f",
        "tags": []
      },
      "source": [
        "# Method 2: Reading data from an Excel file\n",
        "In this Method, you will be using the `pandas.read_excel()` function and examining \n",
        "the various parameters available to ensure the data is read properly as a `DataFrame` with \n",
        "a `DatetimeIndex` for time series analysis."
      ]
    },
    {
      "attachments": {},
      "cell_type": "markdown",
      "id": "6c348d1b-52a6-4a3a-9a7e-7fb4facba5fe",
      "metadata": {
        "id": "6c348d1b-52a6-4a3a-9a7e-7fb4facba5fe"
      },
      "source": [
        "In addition, you will explore different optionsto read Excel files with multiple sheets, install `openpyxl` using conda or pip, run the following command in the terminal:\n",
        "```\n",
        "conda install openpyxl\n",
        "```\n",
        "or\n",
        "```\n",
        "pip install openpyxl\n",
        "```"
      ]
    },
    {
      "cell_type": "code",
      "execution_count": 29,
      "id": "aff3d06e-12de-4cc9-9785-ff2548c434ed",
      "metadata": {
        "id": "aff3d06e-12de-4cc9-9785-ff2548c434ed"
      },
      "outputs": [],
      "source": [
        "#!conda install openpyxl -y\n",
        "!pip install openpyxl --quiet\n",
        "\n",
        "import warnings\n",
        "warnings.simplefilter(\"ignore\")"
      ]
    },
    {
      "attachments": {},
      "cell_type": "markdown",
      "id": "hA9vxkJFBg8s",
      "metadata": {
        "id": "hA9vxkJFBg8s"
      },
      "source": [
        "Import the libraries for this Method\n",
        "Read the Excel (.xlxs) file using the `read_excel()` function. "
      ]
    },
    {
      "cell_type": "code",
      "execution_count": 23,
      "id": "a4610e13-c484-4b65-af84-bc33da9c9ea4",
      "metadata": {
        "id": "a4610e13-c484-4b65-af84-bc33da9c9ea4"
      },
      "outputs": [],
      "source": [
        "import pandas as pd\n",
        "from pathlib import Path\n",
        "filepath = Path('./boxoffice_by_month.xlsx')"
      ]
    },
    {
      "cell_type": "code",
      "execution_count": 24,
      "id": "93768b2a-bc9e-4a6a-8f72-cfdf6ec017f4",
      "metadata": {
        "id": "93768b2a-bc9e-4a6a-8f72-cfdf6ec017f4",
        "outputId": "b5c50cc7-dde1-4cf9-fa0b-a59676df8d74"
      },
      "outputs": [
        {
          "data": {
            "text/plain": [
              "'3.0.10'"
            ]
          },
          "execution_count": 24,
          "metadata": {},
          "output_type": "execute_result"
        }
      ],
      "source": [
        "import openpyxl\n",
        "openpyxl.__version__"
      ]
    },
    {
      "cell_type": "code",
      "execution_count": 25,
      "id": "63bbe7dd-7677-4642-88a3-37c2861a031f",
      "metadata": {
        "id": "63bbe7dd-7677-4642-88a3-37c2861a031f",
        "outputId": "1670ec0f-6ab7-4f64-9f2d-c54cb3dbfc1c"
      },
      "outputs": [
        {
          "data": {
            "text/plain": [
              "['April', 'August', 'July', 'June', 'May']"
            ]
          },
          "execution_count": 25,
          "metadata": {},
          "output_type": "execute_result"
        }
      ],
      "source": [
        "excelfile = pd.ExcelFile(filepath)\n",
        "excelfile.sheet_names"
      ]
    },
    {
      "cell_type": "code",
      "execution_count": 26,
      "id": "ce1c5c12-a858-4438-92dd-bc4b03b344e0",
      "metadata": {
        "id": "ce1c5c12-a858-4438-92dd-bc4b03b344e0",
        "outputId": "d8ec1c73-70c5-4ed3-81e6-8f776b2677d9"
      },
      "outputs": [
        {
          "data": {
            "text/html": [
              "<div>\n",
              "<style scoped>\n",
              "    .dataframe tbody tr th:only-of-type {\n",
              "        vertical-align: middle;\n",
              "    }\n",
              "\n",
              "    .dataframe tbody tr th {\n",
              "        vertical-align: top;\n",
              "    }\n",
              "\n",
              "    .dataframe thead th {\n",
              "        text-align: right;\n",
              "    }\n",
              "</style>\n",
              "<table border=\"1\" class=\"dataframe\">\n",
              "  <thead>\n",
              "    <tr style=\"text-align: right;\">\n",
              "      <th></th>\n",
              "      <th>Date</th>\n",
              "      <th>Daily</th>\n",
              "      <th>Month</th>\n",
              "    </tr>\n",
              "  </thead>\n",
              "  <tbody>\n",
              "    <tr>\n",
              "      <th>0</th>\n",
              "      <td>2021-07-01</td>\n",
              "      <td>$578.32</td>\n",
              "      <td>July</td>\n",
              "    </tr>\n",
              "    <tr>\n",
              "      <th>1</th>\n",
              "      <td>2021-07-02</td>\n",
              "      <td>$386.08</td>\n",
              "      <td>July</td>\n",
              "    </tr>\n",
              "    <tr>\n",
              "      <th>2</th>\n",
              "      <td>2021-07-03</td>\n",
              "      <td>$409.16</td>\n",
              "      <td>July</td>\n",
              "    </tr>\n",
              "    <tr>\n",
              "      <th>3</th>\n",
              "      <td>2021-07-04</td>\n",
              "      <td>$512.57</td>\n",
              "      <td>July</td>\n",
              "    </tr>\n",
              "    <tr>\n",
              "      <th>4</th>\n",
              "      <td>2021-07-05</td>\n",
              "      <td>$693.22</td>\n",
              "      <td>July</td>\n",
              "    </tr>\n",
              "    <tr>\n",
              "      <th>5</th>\n",
              "      <td>2021-07-06</td>\n",
              "      <td>$777.98</td>\n",
              "      <td>July</td>\n",
              "    </tr>\n",
              "    <tr>\n",
              "      <th>6</th>\n",
              "      <td>2021-07-07</td>\n",
              "      <td>$525.73</td>\n",
              "      <td>July</td>\n",
              "    </tr>\n",
              "    <tr>\n",
              "      <th>7</th>\n",
              "      <td>2021-07-08</td>\n",
              "      <td>$239.25</td>\n",
              "      <td>July</td>\n",
              "    </tr>\n",
              "    <tr>\n",
              "      <th>8</th>\n",
              "      <td>2021-07-09</td>\n",
              "      <td>$316.44</td>\n",
              "      <td>July</td>\n",
              "    </tr>\n",
              "    <tr>\n",
              "      <th>9</th>\n",
              "      <td>2021-07-10</td>\n",
              "      <td>$234.88</td>\n",
              "      <td>July</td>\n",
              "    </tr>\n",
              "    <tr>\n",
              "      <th>10</th>\n",
              "      <td>2021-07-11</td>\n",
              "      <td>$214.09</td>\n",
              "      <td>July</td>\n",
              "    </tr>\n",
              "    <tr>\n",
              "      <th>11</th>\n",
              "      <td>2021-07-12</td>\n",
              "      <td>$358.82</td>\n",
              "      <td>July</td>\n",
              "    </tr>\n",
              "    <tr>\n",
              "      <th>12</th>\n",
              "      <td>2021-07-13</td>\n",
              "      <td>$495.82</td>\n",
              "      <td>July</td>\n",
              "    </tr>\n",
              "    <tr>\n",
              "      <th>13</th>\n",
              "      <td>2021-07-14</td>\n",
              "      <td>$386.69</td>\n",
              "      <td>July</td>\n",
              "    </tr>\n",
              "    <tr>\n",
              "      <th>14</th>\n",
              "      <td>2021-07-15</td>\n",
              "      <td>$191.04</td>\n",
              "      <td>July</td>\n",
              "    </tr>\n",
              "    <tr>\n",
              "      <th>15</th>\n",
              "      <td>2021-07-16</td>\n",
              "      <td>$249.41</td>\n",
              "      <td>July</td>\n",
              "    </tr>\n",
              "    <tr>\n",
              "      <th>16</th>\n",
              "      <td>2021-07-17</td>\n",
              "      <td>$197.38</td>\n",
              "      <td>July</td>\n",
              "    </tr>\n",
              "    <tr>\n",
              "      <th>17</th>\n",
              "      <td>2021-07-18</td>\n",
              "      <td>$153.44</td>\n",
              "      <td>July</td>\n",
              "    </tr>\n",
              "    <tr>\n",
              "      <th>18</th>\n",
              "      <td>2021-07-19</td>\n",
              "      <td>$249.68</td>\n",
              "      <td>July</td>\n",
              "    </tr>\n",
              "    <tr>\n",
              "      <th>19</th>\n",
              "      <td>2021-07-20</td>\n",
              "      <td>$318.39</td>\n",
              "      <td>July</td>\n",
              "    </tr>\n",
              "    <tr>\n",
              "      <th>20</th>\n",
              "      <td>2021-07-21</td>\n",
              "      <td>$238.63</td>\n",
              "      <td>July</td>\n",
              "    </tr>\n",
              "    <tr>\n",
              "      <th>21</th>\n",
              "      <td>2021-07-22</td>\n",
              "      <td>$132.52</td>\n",
              "      <td>July</td>\n",
              "    </tr>\n",
              "    <tr>\n",
              "      <th>22</th>\n",
              "      <td>2021-07-23</td>\n",
              "      <td>$155.97</td>\n",
              "      <td>July</td>\n",
              "    </tr>\n",
              "    <tr>\n",
              "      <th>23</th>\n",
              "      <td>2021-07-24</td>\n",
              "      <td>$132.47</td>\n",
              "      <td>July</td>\n",
              "    </tr>\n",
              "    <tr>\n",
              "      <th>24</th>\n",
              "      <td>2021-07-25</td>\n",
              "      <td>$125.49</td>\n",
              "      <td>July</td>\n",
              "    </tr>\n",
              "    <tr>\n",
              "      <th>25</th>\n",
              "      <td>2021-07-26</td>\n",
              "      <td>$139.87</td>\n",
              "      <td>July</td>\n",
              "    </tr>\n",
              "    <tr>\n",
              "      <th>26</th>\n",
              "      <td>2021-07-27</td>\n",
              "      <td>$192.14</td>\n",
              "      <td>July</td>\n",
              "    </tr>\n",
              "    <tr>\n",
              "      <th>27</th>\n",
              "      <td>2021-07-28</td>\n",
              "      <td>$111.00</td>\n",
              "      <td>July</td>\n",
              "    </tr>\n",
              "    <tr>\n",
              "      <th>28</th>\n",
              "      <td>2021-07-29</td>\n",
              "      <td>$57.23</td>\n",
              "      <td>July</td>\n",
              "    </tr>\n",
              "    <tr>\n",
              "      <th>29</th>\n",
              "      <td>2021-07-30</td>\n",
              "      <td>$66.29</td>\n",
              "      <td>July</td>\n",
              "    </tr>\n",
              "    <tr>\n",
              "      <th>30</th>\n",
              "      <td>2021-07-31</td>\n",
              "      <td>$48.06</td>\n",
              "      <td>July</td>\n",
              "    </tr>\n",
              "  </tbody>\n",
              "</table>\n",
              "</div>"
            ],
            "text/plain": [
              "         Date      Daily Month\n",
              "0  2021-07-01   $578.32   July\n",
              "1  2021-07-02   $386.08   July\n",
              "2  2021-07-03   $409.16   July\n",
              "3  2021-07-04   $512.57   July\n",
              "4  2021-07-05   $693.22   July\n",
              "5  2021-07-06   $777.98   July\n",
              "6  2021-07-07   $525.73   July\n",
              "7  2021-07-08   $239.25   July\n",
              "8  2021-07-09   $316.44   July\n",
              "9  2021-07-10   $234.88   July\n",
              "10 2021-07-11   $214.09   July\n",
              "11 2021-07-12   $358.82   July\n",
              "12 2021-07-13   $495.82   July\n",
              "13 2021-07-14   $386.69   July\n",
              "14 2021-07-15   $191.04   July\n",
              "15 2021-07-16   $249.41   July\n",
              "16 2021-07-17   $197.38   July\n",
              "17 2021-07-18   $153.44   July\n",
              "18 2021-07-19   $249.68   July\n",
              "19 2021-07-20   $318.39   July\n",
              "20 2021-07-21   $238.63   July\n",
              "21 2021-07-22   $132.52   July\n",
              "22 2021-07-23   $155.97   July\n",
              "23 2021-07-24   $132.47   July\n",
              "24 2021-07-25   $125.49   July\n",
              "25 2021-07-26   $139.87   July\n",
              "26 2021-07-27   $192.14   July\n",
              "27 2021-07-28   $111.00   July\n",
              "28 2021-07-29    $57.23   July\n",
              "29 2021-07-30    $66.29   July\n",
              "30 2021-07-31    $48.06   July"
            ]
          },
          "execution_count": 26,
          "metadata": {},
          "output_type": "execute_result"
        }
      ],
      "source": [
        "excelfile.parse('July')"
      ]
    },
    {
      "attachments": {},
      "cell_type": "markdown",
      "id": "ubV44JeaFeSK",
      "metadata": {
        "id": "ubV44JeaFeSK"
      },
      "source": [
        "* The box_office data will be partitioned (split) by month, where each sheet contained sales for \n",
        "a particular month. \n",
        "* In this case, concatenating the two DataFrames is a natural choice. The \n",
        "`pandas.concat()` function is like the `DataFrame.append()` function, in which the second DataFrame was added (appended) to the end of the first DataFrame."
      ]
    },
    {
      "cell_type": "code",
      "execution_count": 40,
      "id": "9d46ccf9-8921-44ac-823e-e58836d6cb84",
      "metadata": {
        "id": "9d46ccf9-8921-44ac-823e-e58836d6cb84",
        "outputId": "79457644-1271-4aae-b047-13da0659d5c5"
      },
      "outputs": [
        {
          "data": {
            "text/plain": [
              "dict_keys([0, 1])"
            ]
          },
          "execution_count": 40,
          "metadata": {},
          "output_type": "execute_result"
        }
      ],
      "source": [
        "ts = pd.read_excel(filepath,\n",
        "                    engine='openpyxl',\n",
        "                    index_col=0,\n",
        "                    sheet_name=[0,1],\n",
        "                    parse_dates=True)\n",
        "ts.keys()"
      ]
    },
    {
      "cell_type": "code",
      "execution_count": 41,
      "id": "6e845a34-f261-4abd-a7ca-d7b78cf036b7",
      "metadata": {
        "id": "6e845a34-f261-4abd-a7ca-d7b78cf036b7",
        "outputId": "0e9da39c-d514-4b2c-f932-46a6f371fcfa"
      },
      "outputs": [
        {
          "data": {
            "text/plain": [
              "dict_keys(['June', 'May'])"
            ]
          },
          "execution_count": 41,
          "metadata": {},
          "output_type": "execute_result"
        }
      ],
      "source": [
        "ts = pd.read_excel(filepath,\n",
        "                    engine='openpyxl',\n",
        "                    index_col=0,\n",
        "                    sheet_name=['June','May'],\n",
        "                    parse_dates=True)\n",
        "ts.keys()"
      ]
    },
    {
      "cell_type": "code",
      "execution_count": 42,
      "id": "0fc089c3-cfeb-4ad4-8dd9-e032b3e4b5a8",
      "metadata": {
        "id": "0fc089c3-cfeb-4ad4-8dd9-e032b3e4b5a8",
        "outputId": "a3fa002a-7eef-48c3-9465-db9f3bbdaf8e"
      },
      "outputs": [
        {
          "data": {
            "text/plain": [
              "dict_keys(['April', 'August', 'July', 'June', 'May'])"
            ]
          },
          "execution_count": 42,
          "metadata": {},
          "output_type": "execute_result"
        }
      ],
      "source": [
        "ts = pd.read_excel(filepath,\n",
        "                    engine='openpyxl',\n",
        "                    index_col=0,\n",
        "                    sheet_name=None,\n",
        "                    parse_dates=True)\n",
        "ts.keys()"
      ]
    },
    {
      "cell_type": "code",
      "execution_count": 43,
      "id": "532a5897-53eb-475f-914c-5a6c38c0f442",
      "metadata": {
        "id": "532a5897-53eb-475f-914c-5a6c38c0f442",
        "outputId": "d55f6f47-0e81-41b5-9d53-da2f8592a265"
      },
      "outputs": [
        {
          "name": "stdout",
          "output_type": "stream",
          "text": [
            "<class 'pandas.core.frame.DataFrame'>\n",
            "DatetimeIndex: 30 entries, 2021-06-01 to 2021-06-30\n",
            "Data columns (total 2 columns):\n",
            " #   Column  Non-Null Count  Dtype \n",
            "---  ------  --------------  ----- \n",
            " 0   Daily   30 non-null     object\n",
            " 1   Month   30 non-null     object\n",
            "dtypes: object(2)\n",
            "memory usage: 720.0+ bytes\n"
          ]
        }
      ],
      "source": [
        "ts['June'].info()"
      ]
    },
    {
      "cell_type": "code",
      "execution_count": 44,
      "id": "acd9b6a2-e291-4172-8310-027fbda6c880",
      "metadata": {
        "id": "acd9b6a2-e291-4172-8310-027fbda6c880",
        "outputId": "eb84e9c6-7b67-4665-da43-6f3ecdd35947"
      },
      "outputs": [
        {
          "name": "stdout",
          "output_type": "stream",
          "text": [
            "<class 'pandas.core.frame.DataFrame'>\n",
            "DatetimeIndex: 31 entries, 2021-05-01 to 2021-05-31\n",
            "Data columns (total 2 columns):\n",
            " #   Column  Non-Null Count  Dtype \n",
            "---  ------  --------------  ----- \n",
            " 0   Daily   31 non-null     object\n",
            " 1   Month   31 non-null     object\n",
            "dtypes: object(2)\n",
            "memory usage: 744.0+ bytes\n"
          ]
        }
      ],
      "source": [
        "ts['May'].info()"
      ]
    },
    {
      "cell_type": "code",
      "execution_count": 36,
      "id": "8bb16eb6-c6e7-4e27-aa5f-4c8003ace5a0",
      "metadata": {
        "id": "8bb16eb6-c6e7-4e27-aa5f-4c8003ace5a0"
      },
      "outputs": [],
      "source": [
        "ts_combined = pd.concat([ts['June'],ts['May']])"
      ]
    },
    {
      "cell_type": "code",
      "execution_count": 37,
      "id": "966a7f86-abce-49ca-846d-3f1f2f9f02d6",
      "metadata": {
        "id": "966a7f86-abce-49ca-846d-3f1f2f9f02d6",
        "outputId": "370727ab-afbd-4d56-a75b-e88dfca79e5c"
      },
      "outputs": [
        {
          "name": "stdout",
          "output_type": "stream",
          "text": [
            "<class 'pandas.core.frame.DataFrame'>\n",
            "Index: 61 entries,  $2,955.72  to  $1,819.52 \n",
            "Data columns (total 2 columns):\n",
            " #   Column  Non-Null Count  Dtype         \n",
            "---  ------  --------------  -----         \n",
            " 0   Date    61 non-null     datetime64[ns]\n",
            " 1   Month   61 non-null     object        \n",
            "dtypes: datetime64[ns](1), object(1)\n",
            "memory usage: 1.4+ KB\n"
          ]
        }
      ],
      "source": [
        "ts_combined.info()"
      ]
    },
    {
      "cell_type": "code",
      "execution_count": 45,
      "id": "3ddc8ab9-a868-475c-8d88-f6b7113d5892",
      "metadata": {
        "id": "3ddc8ab9-a868-475c-8d88-f6b7113d5892",
        "outputId": "8b185e90-ceb6-49fd-9840-ba009455195f"
      },
      "outputs": [
        {
          "data": {
            "text/plain": [
              "MultiIndex([( 'April', '2021-04-26'),\n",
              "            ( 'April', '2021-04-27'),\n",
              "            ( 'April', '2021-04-28'),\n",
              "            ( 'April', '2021-04-29'),\n",
              "            ( 'April', '2021-04-30'),\n",
              "            ('August', '2021-08-01'),\n",
              "            ('August', '2021-08-02'),\n",
              "            ('August', '2021-08-03'),\n",
              "            ('August', '2021-08-04'),\n",
              "            ('August', '2021-08-05'),\n",
              "            ...\n",
              "            (   'May', '2021-05-22'),\n",
              "            (   'May', '2021-05-23'),\n",
              "            (   'May', '2021-05-24'),\n",
              "            (   'May', '2021-05-25'),\n",
              "            (   'May', '2021-05-26'),\n",
              "            (   'May', '2021-05-27'),\n",
              "            (   'May', '2021-05-28'),\n",
              "            (   'May', '2021-05-29'),\n",
              "            (   'May', '2021-05-30'),\n",
              "            (   'May', '2021-05-31')],\n",
              "           names=[None, 'Date'], length=128)"
            ]
          },
          "execution_count": 45,
          "metadata": {},
          "output_type": "execute_result"
        }
      ],
      "source": [
        "pd.concat(ts).index"
      ]
    },
    {
      "attachments": {},
      "cell_type": "markdown",
      "id": "ZqHkDfF0GU11",
      "metadata": {
        "id": "ZqHkDfF0GU11"
      },
      "source": [
        "To reduce the number of levels, you can use the `droplevel(level=0)` method \n",
        "to drop the first level after `pandas.concat()` shown as follows:"
      ]
    },
    {
      "cell_type": "code",
      "execution_count": 46,
      "id": "c5e27638-bd4f-418f-95c9-da6c552e973c",
      "metadata": {
        "id": "c5e27638-bd4f-418f-95c9-da6c552e973c",
        "outputId": "1d411536-50da-434e-aa5e-14f9530802a7"
      },
      "outputs": [
        {
          "data": {
            "text/html": [
              "<div>\n",
              "<style scoped>\n",
              "    .dataframe tbody tr th:only-of-type {\n",
              "        vertical-align: middle;\n",
              "    }\n",
              "\n",
              "    .dataframe tbody tr th {\n",
              "        vertical-align: top;\n",
              "    }\n",
              "\n",
              "    .dataframe thead th {\n",
              "        text-align: right;\n",
              "    }\n",
              "</style>\n",
              "<table border=\"1\" class=\"dataframe\">\n",
              "  <thead>\n",
              "    <tr style=\"text-align: right;\">\n",
              "      <th></th>\n",
              "      <th>Daily</th>\n",
              "      <th>Month</th>\n",
              "    </tr>\n",
              "    <tr>\n",
              "      <th>Date</th>\n",
              "      <th></th>\n",
              "      <th></th>\n",
              "    </tr>\n",
              "  </thead>\n",
              "  <tbody>\n",
              "    <tr>\n",
              "      <th>2021-04-26</th>\n",
              "      <td>$125,789.89</td>\n",
              "      <td>April</td>\n",
              "    </tr>\n",
              "    <tr>\n",
              "      <th>2021-04-27</th>\n",
              "      <td>$99,374.01</td>\n",
              "      <td>April</td>\n",
              "    </tr>\n",
              "    <tr>\n",
              "      <th>2021-04-28</th>\n",
              "      <td>$82,203.16</td>\n",
              "      <td>April</td>\n",
              "    </tr>\n",
              "    <tr>\n",
              "      <th>2021-04-29</th>\n",
              "      <td>$33,530.26</td>\n",
              "      <td>April</td>\n",
              "    </tr>\n",
              "    <tr>\n",
              "      <th>2021-04-30</th>\n",
              "      <td>$30,105.24</td>\n",
              "      <td>April</td>\n",
              "    </tr>\n",
              "  </tbody>\n",
              "</table>\n",
              "</div>"
            ],
            "text/plain": [
              "                    Daily  Month\n",
              "Date                            \n",
              "2021-04-26   $125,789.89   April\n",
              "2021-04-27    $99,374.01   April\n",
              "2021-04-28    $82,203.16   April\n",
              "2021-04-29    $33,530.26   April\n",
              "2021-04-30    $30,105.24   April"
            ]
          },
          "execution_count": 46,
          "metadata": {},
          "output_type": "execute_result"
        }
      ],
      "source": [
        "ts_combined = pd.concat(ts).droplevel(level=0)\n",
        "ts_combined.head()"
      ]
    },
    {
      "cell_type": "code",
      "execution_count": 48,
      "id": "31b66f18-eead-4210-b3f0-05e57fa12ba4",
      "metadata": {
        "id": "31b66f18-eead-4210-b3f0-05e57fa12ba4",
        "outputId": "fa4d6f32-eba5-4095-aedd-c983ce384a19"
      },
      "outputs": [
        {
          "data": {
            "text/plain": [
              "pandas.core.frame.DataFrame"
            ]
          },
          "execution_count": 48,
          "metadata": {},
          "output_type": "execute_result"
        }
      ],
      "source": [
        "ts = pd.read_excel(filepath,\n",
        "                   index_col=0,\n",
        "                   sheet_name='June',\n",
        "                   parse_dates=True)\n",
        "type(ts)"
      ]
    },
    {
      "cell_type": "markdown",
      "id": "1de33298-bccc-4d86-a827-39b8bc4d8376",
      "metadata": {
        "id": "1de33298-bccc-4d86-a827-39b8bc4d8376"
      },
      "source": [
        "## There is more\n",
        "* Using `ExcelFile`"
      ]
    },
    {
      "cell_type": "code",
      "execution_count": 50,
      "id": "1655b775-cd6c-4f28-8ed4-7e8b89e0e460",
      "metadata": {
        "id": "1655b775-cd6c-4f28-8ed4-7e8b89e0e460",
        "outputId": "56a1e7b8-e9ff-4332-8ec3-3b39428c4d4a"
      },
      "outputs": [
        {
          "data": {
            "text/html": [
              "<div>\n",
              "<style scoped>\n",
              "    .dataframe tbody tr th:only-of-type {\n",
              "        vertical-align: middle;\n",
              "    }\n",
              "\n",
              "    .dataframe tbody tr th {\n",
              "        vertical-align: top;\n",
              "    }\n",
              "\n",
              "    .dataframe thead th {\n",
              "        text-align: right;\n",
              "    }\n",
              "</style>\n",
              "<table border=\"1\" class=\"dataframe\">\n",
              "  <thead>\n",
              "    <tr style=\"text-align: right;\">\n",
              "      <th></th>\n",
              "      <th>Daily</th>\n",
              "      <th>Month</th>\n",
              "    </tr>\n",
              "    <tr>\n",
              "      <th>Date</th>\n",
              "      <th></th>\n",
              "      <th></th>\n",
              "    </tr>\n",
              "  </thead>\n",
              "  <tbody>\n",
              "    <tr>\n",
              "      <th>2021-06-01</th>\n",
              "      <td>$2,955.72</td>\n",
              "      <td>June</td>\n",
              "    </tr>\n",
              "    <tr>\n",
              "      <th>2021-06-02</th>\n",
              "      <td>$2,249.78</td>\n",
              "      <td>June</td>\n",
              "    </tr>\n",
              "    <tr>\n",
              "      <th>2021-06-03</th>\n",
              "      <td>$753.48</td>\n",
              "      <td>June</td>\n",
              "    </tr>\n",
              "    <tr>\n",
              "      <th>2021-06-04</th>\n",
              "      <td>$1,044.94</td>\n",
              "      <td>June</td>\n",
              "    </tr>\n",
              "    <tr>\n",
              "      <th>2021-06-05</th>\n",
              "      <td>$771.17</td>\n",
              "      <td>June</td>\n",
              "    </tr>\n",
              "  </tbody>\n",
              "</table>\n",
              "</div>"
            ],
            "text/plain": [
              "                  Daily Month\n",
              "Date                         \n",
              "2021-06-01   $2,955.72   June\n",
              "2021-06-02   $2,249.78   June\n",
              "2021-06-03     $753.48   June\n",
              "2021-06-04   $1,044.94   June\n",
              "2021-06-05     $771.17   June"
            ]
          },
          "execution_count": 50,
          "metadata": {},
          "output_type": "execute_result"
        }
      ],
      "source": [
        "excelfile = pd.ExcelFile(filepath)\n",
        "excelfile.parse(sheet_name='June',\n",
        "                index_col=0,\n",
        "                parse_dates=True).head()\n"
      ]
    },
    {
      "attachments": {},
      "cell_type": "markdown",
      "id": "cb565e22-12c8-44c8-8c66-5e7b91f28275",
      "metadata": {
        "id": "cb565e22-12c8-44c8-8c66-5e7b91f28275"
      },
      "source": [
        "# Method 3: Reading data from a URL\n",
        "* Many of the pandas reader functions can read data from remote locations by passing \n",
        "a URL path. \n",
        "* For example, both `read_csv()` and `read_excel()` can take a URL to \n",
        "read a file that is accessible via the internet. In this Method, you will read a `CSV` file using \n",
        "`pandas.read_csv()` and `Excel` files using `pandas.read_excel()` from remote \n",
        "locations, such as `GitHub`. \n",
        "* You will also read data directly from an HTML page into a pandas DataFrame"
      ]
    },
    {
      "cell_type": "code",
      "execution_count": 51,
      "id": "0df2d7c3-ef1e-4101-890d-50ce9cfdb9cc",
      "metadata": {
        "id": "0df2d7c3-ef1e-4101-890d-50ce9cfdb9cc"
      },
      "outputs": [
        {
          "name": "stdout",
          "output_type": "stream",
          "text": [
            "\n",
            "pandas -> 2.0.0\n",
            "lxml -> 4.9.1\n",
            "\n"
          ]
        }
      ],
      "source": [
        "import pandas as pd\n",
        "import  lxml\n",
        "print(f'''\n",
        "pandas -> {pd.__version__}\n",
        "lxml -> {lxml.__version__}\n",
        "''')"
      ]
    },
    {
      "attachments": {},
      "cell_type": "markdown",
      "id": "26f56e5a-a01d-482f-b5b0-e7cf8a677e80",
      "metadata": {
        "id": "26f56e5a-a01d-482f-b5b0-e7cf8a677e80"
      },
      "source": [
        "## Reading from GitHub\n",
        "* This is most important part since you'll be using it frequently in your project to read the data from the project's github page\n",
        "* To read a CSV file from GitHub, you will need the URL to the `raw content`. \n",
        "* If you copy the file's GitHub URL from the browser and use it as the file path, you will get \n",
        "a URL that looks like this: https://github.com/FuTSA23/time-series-analysis-datasets/blob/main/AirQualityUCI.csv  \n",
        "* This URL is a pointer to the web page in GitHub and \n",
        "not the data itself; hence when using `pd.read_csv()`, it will throw an error"
      ]
    },
    {
      "cell_type": "code",
      "execution_count": 55,
      "id": "c208b0e8-7f40-4f2b-938b-6b538492cd8b",
      "metadata": {
        "id": "c208b0e8-7f40-4f2b-938b-6b538492cd8b"
      },
      "outputs": [
        {
          "ename": "ParserError",
          "evalue": "Error tokenizing data. C error: Expected 1 fields in line 28, saw 367\n",
          "output_type": "error",
          "traceback": [
            "\u001b[1;31m---------------------------------------------------------------------------\u001b[0m",
            "\u001b[1;31mParserError\u001b[0m                               Traceback (most recent call last)",
            "Cell \u001b[1;32mIn[55], line 3\u001b[0m\n\u001b[0;32m      1\u001b[0m \u001b[39m# example of produced error\u001b[39;00m\n\u001b[0;32m      2\u001b[0m url \u001b[39m=\u001b[39m \u001b[39m'\u001b[39m\u001b[39mhttps://github.com/FuTSA23/time-series-analysis-datasets/blob/main/AirQualityUCI.csv\u001b[39m\u001b[39m'\u001b[39m\n\u001b[1;32m----> 3\u001b[0m pd\u001b[39m.\u001b[39;49mread_csv(url)\n",
            "File \u001b[1;32mc:\\Users\\mailt\\anaconda3\\lib\\site-packages\\pandas\\io\\parsers\\readers.py:912\u001b[0m, in \u001b[0;36mread_csv\u001b[1;34m(filepath_or_buffer, sep, delimiter, header, names, index_col, usecols, dtype, engine, converters, true_values, false_values, skipinitialspace, skiprows, skipfooter, nrows, na_values, keep_default_na, na_filter, verbose, skip_blank_lines, parse_dates, infer_datetime_format, keep_date_col, date_parser, date_format, dayfirst, cache_dates, iterator, chunksize, compression, thousands, decimal, lineterminator, quotechar, quoting, doublequote, escapechar, comment, encoding, encoding_errors, dialect, on_bad_lines, delim_whitespace, low_memory, memory_map, float_precision, storage_options, dtype_backend)\u001b[0m\n\u001b[0;32m    899\u001b[0m kwds_defaults \u001b[39m=\u001b[39m _refine_defaults_read(\n\u001b[0;32m    900\u001b[0m     dialect,\n\u001b[0;32m    901\u001b[0m     delimiter,\n\u001b[1;32m   (...)\u001b[0m\n\u001b[0;32m    908\u001b[0m     dtype_backend\u001b[39m=\u001b[39mdtype_backend,\n\u001b[0;32m    909\u001b[0m )\n\u001b[0;32m    910\u001b[0m kwds\u001b[39m.\u001b[39mupdate(kwds_defaults)\n\u001b[1;32m--> 912\u001b[0m \u001b[39mreturn\u001b[39;00m _read(filepath_or_buffer, kwds)\n",
            "File \u001b[1;32mc:\\Users\\mailt\\anaconda3\\lib\\site-packages\\pandas\\io\\parsers\\readers.py:583\u001b[0m, in \u001b[0;36m_read\u001b[1;34m(filepath_or_buffer, kwds)\u001b[0m\n\u001b[0;32m    580\u001b[0m     \u001b[39mreturn\u001b[39;00m parser\n\u001b[0;32m    582\u001b[0m \u001b[39mwith\u001b[39;00m parser:\n\u001b[1;32m--> 583\u001b[0m     \u001b[39mreturn\u001b[39;00m parser\u001b[39m.\u001b[39;49mread(nrows)\n",
            "File \u001b[1;32mc:\\Users\\mailt\\anaconda3\\lib\\site-packages\\pandas\\io\\parsers\\readers.py:1704\u001b[0m, in \u001b[0;36mTextFileReader.read\u001b[1;34m(self, nrows)\u001b[0m\n\u001b[0;32m   1697\u001b[0m nrows \u001b[39m=\u001b[39m validate_integer(\u001b[39m\"\u001b[39m\u001b[39mnrows\u001b[39m\u001b[39m\"\u001b[39m, nrows)\n\u001b[0;32m   1698\u001b[0m \u001b[39mtry\u001b[39;00m:\n\u001b[0;32m   1699\u001b[0m     \u001b[39m# error: \"ParserBase\" has no attribute \"read\"\u001b[39;00m\n\u001b[0;32m   1700\u001b[0m     (\n\u001b[0;32m   1701\u001b[0m         index,\n\u001b[0;32m   1702\u001b[0m         columns,\n\u001b[0;32m   1703\u001b[0m         col_dict,\n\u001b[1;32m-> 1704\u001b[0m     ) \u001b[39m=\u001b[39m \u001b[39mself\u001b[39;49m\u001b[39m.\u001b[39;49m_engine\u001b[39m.\u001b[39;49mread(  \u001b[39m# type: ignore[attr-defined]\u001b[39;49;00m\n\u001b[0;32m   1705\u001b[0m         nrows\n\u001b[0;32m   1706\u001b[0m     )\n\u001b[0;32m   1707\u001b[0m \u001b[39mexcept\u001b[39;00m \u001b[39mException\u001b[39;00m:\n\u001b[0;32m   1708\u001b[0m     \u001b[39mself\u001b[39m\u001b[39m.\u001b[39mclose()\n",
            "File \u001b[1;32mc:\\Users\\mailt\\anaconda3\\lib\\site-packages\\pandas\\io\\parsers\\c_parser_wrapper.py:234\u001b[0m, in \u001b[0;36mCParserWrapper.read\u001b[1;34m(self, nrows)\u001b[0m\n\u001b[0;32m    232\u001b[0m \u001b[39mtry\u001b[39;00m:\n\u001b[0;32m    233\u001b[0m     \u001b[39mif\u001b[39;00m \u001b[39mself\u001b[39m\u001b[39m.\u001b[39mlow_memory:\n\u001b[1;32m--> 234\u001b[0m         chunks \u001b[39m=\u001b[39m \u001b[39mself\u001b[39;49m\u001b[39m.\u001b[39;49m_reader\u001b[39m.\u001b[39;49mread_low_memory(nrows)\n\u001b[0;32m    235\u001b[0m         \u001b[39m# destructive to chunks\u001b[39;00m\n\u001b[0;32m    236\u001b[0m         data \u001b[39m=\u001b[39m _concatenate_chunks(chunks)\n",
            "File \u001b[1;32mc:\\Users\\mailt\\anaconda3\\lib\\site-packages\\pandas\\_libs\\parsers.pyx:812\u001b[0m, in \u001b[0;36mpandas._libs.parsers.TextReader.read_low_memory\u001b[1;34m()\u001b[0m\n",
            "File \u001b[1;32mc:\\Users\\mailt\\anaconda3\\lib\\site-packages\\pandas\\_libs\\parsers.pyx:873\u001b[0m, in \u001b[0;36mpandas._libs.parsers.TextReader._read_rows\u001b[1;34m()\u001b[0m\n",
            "File \u001b[1;32mc:\\Users\\mailt\\anaconda3\\lib\\site-packages\\pandas\\_libs\\parsers.pyx:848\u001b[0m, in \u001b[0;36mpandas._libs.parsers.TextReader._tokenize_rows\u001b[1;34m()\u001b[0m\n",
            "File \u001b[1;32mc:\\Users\\mailt\\anaconda3\\lib\\site-packages\\pandas\\_libs\\parsers.pyx:859\u001b[0m, in \u001b[0;36mpandas._libs.parsers.TextReader._check_tokenize_status\u001b[1;34m()\u001b[0m\n",
            "File \u001b[1;32mc:\\Users\\mailt\\anaconda3\\lib\\site-packages\\pandas\\_libs\\parsers.pyx:2025\u001b[0m, in \u001b[0;36mpandas._libs.parsers.raise_parser_error\u001b[1;34m()\u001b[0m\n",
            "\u001b[1;31mParserError\u001b[0m: Error tokenizing data. C error: Expected 1 fields in line 28, saw 367\n"
          ]
        }
      ],
      "source": [
        "# example of produced error\n",
        "url = 'https://github.com/FuTSA23/time-series-analysis-datasets/blob/main/AirQualityUCI.csv'\n",
        "# pd.read_csv(url)"
      ]
    },
    {
      "cell_type": "markdown",
      "id": "lHblt-_nMO6T",
      "metadata": {
        "id": "lHblt-_nMO6T"
      },
      "source": [
        "Instead, you will need the raw content, which will give you a URL that \n",
        "looks like this:\n",
        "The first column in the file is the Date column. You will need to parse (parse_\n",
        "date parameter) and convert it to DatetimeIndex (index_col parameter)."
      ]
    },
    {
      "cell_type": "code",
      "execution_count": 58,
      "id": "1578a313-df89-4d15-81c0-511f50f49c4b",
      "metadata": {
        "id": "1578a313-df89-4d15-81c0-511f50f49c4b",
        "outputId": "882bdbb4-705a-45ea-f69d-0b704912f3b2"
      },
      "outputs": [
        {
          "ename": "URLError",
          "evalue": "<urlopen error [WinError 10061] No connection could be made because the target machine actively refused it>",
          "output_type": "error",
          "traceback": [
            "\u001b[1;31m---------------------------------------------------------------------------\u001b[0m",
            "\u001b[1;31mConnectionRefusedError\u001b[0m                    Traceback (most recent call last)",
            "File \u001b[1;32mc:\\Users\\mailt\\anaconda3\\lib\\urllib\\request.py:1346\u001b[0m, in \u001b[0;36mAbstractHTTPHandler.do_open\u001b[1;34m(self, http_class, req, **http_conn_args)\u001b[0m\n\u001b[0;32m   1345\u001b[0m \u001b[39mtry\u001b[39;00m:\n\u001b[1;32m-> 1346\u001b[0m     h\u001b[39m.\u001b[39;49mrequest(req\u001b[39m.\u001b[39;49mget_method(), req\u001b[39m.\u001b[39;49mselector, req\u001b[39m.\u001b[39;49mdata, headers,\n\u001b[0;32m   1347\u001b[0m               encode_chunked\u001b[39m=\u001b[39;49mreq\u001b[39m.\u001b[39;49mhas_header(\u001b[39m'\u001b[39;49m\u001b[39mTransfer-encoding\u001b[39;49m\u001b[39m'\u001b[39;49m))\n\u001b[0;32m   1348\u001b[0m \u001b[39mexcept\u001b[39;00m \u001b[39mOSError\u001b[39;00m \u001b[39mas\u001b[39;00m err: \u001b[39m# timeout error\u001b[39;00m\n",
            "File \u001b[1;32mc:\\Users\\mailt\\anaconda3\\lib\\http\\client.py:1285\u001b[0m, in \u001b[0;36mHTTPConnection.request\u001b[1;34m(self, method, url, body, headers, encode_chunked)\u001b[0m\n\u001b[0;32m   1284\u001b[0m \u001b[39m\u001b[39m\u001b[39m\"\"\"Send a complete request to the server.\"\"\"\u001b[39;00m\n\u001b[1;32m-> 1285\u001b[0m \u001b[39mself\u001b[39;49m\u001b[39m.\u001b[39;49m_send_request(method, url, body, headers, encode_chunked)\n",
            "File \u001b[1;32mc:\\Users\\mailt\\anaconda3\\lib\\http\\client.py:1331\u001b[0m, in \u001b[0;36mHTTPConnection._send_request\u001b[1;34m(self, method, url, body, headers, encode_chunked)\u001b[0m\n\u001b[0;32m   1330\u001b[0m     body \u001b[39m=\u001b[39m _encode(body, \u001b[39m'\u001b[39m\u001b[39mbody\u001b[39m\u001b[39m'\u001b[39m)\n\u001b[1;32m-> 1331\u001b[0m \u001b[39mself\u001b[39;49m\u001b[39m.\u001b[39;49mendheaders(body, encode_chunked\u001b[39m=\u001b[39;49mencode_chunked)\n",
            "File \u001b[1;32mc:\\Users\\mailt\\anaconda3\\lib\\http\\client.py:1280\u001b[0m, in \u001b[0;36mHTTPConnection.endheaders\u001b[1;34m(self, message_body, encode_chunked)\u001b[0m\n\u001b[0;32m   1279\u001b[0m     \u001b[39mraise\u001b[39;00m CannotSendHeader()\n\u001b[1;32m-> 1280\u001b[0m \u001b[39mself\u001b[39;49m\u001b[39m.\u001b[39;49m_send_output(message_body, encode_chunked\u001b[39m=\u001b[39;49mencode_chunked)\n",
            "File \u001b[1;32mc:\\Users\\mailt\\anaconda3\\lib\\http\\client.py:1040\u001b[0m, in \u001b[0;36mHTTPConnection._send_output\u001b[1;34m(self, message_body, encode_chunked)\u001b[0m\n\u001b[0;32m   1039\u001b[0m \u001b[39mdel\u001b[39;00m \u001b[39mself\u001b[39m\u001b[39m.\u001b[39m_buffer[:]\n\u001b[1;32m-> 1040\u001b[0m \u001b[39mself\u001b[39;49m\u001b[39m.\u001b[39;49msend(msg)\n\u001b[0;32m   1042\u001b[0m \u001b[39mif\u001b[39;00m message_body \u001b[39mis\u001b[39;00m \u001b[39mnot\u001b[39;00m \u001b[39mNone\u001b[39;00m:\n\u001b[0;32m   1043\u001b[0m \n\u001b[0;32m   1044\u001b[0m     \u001b[39m# create a consistent interface to message_body\u001b[39;00m\n",
            "File \u001b[1;32mc:\\Users\\mailt\\anaconda3\\lib\\http\\client.py:980\u001b[0m, in \u001b[0;36mHTTPConnection.send\u001b[1;34m(self, data)\u001b[0m\n\u001b[0;32m    979\u001b[0m \u001b[39mif\u001b[39;00m \u001b[39mself\u001b[39m\u001b[39m.\u001b[39mauto_open:\n\u001b[1;32m--> 980\u001b[0m     \u001b[39mself\u001b[39;49m\u001b[39m.\u001b[39;49mconnect()\n\u001b[0;32m    981\u001b[0m \u001b[39melse\u001b[39;00m:\n",
            "File \u001b[1;32mc:\\Users\\mailt\\anaconda3\\lib\\http\\client.py:1447\u001b[0m, in \u001b[0;36mHTTPSConnection.connect\u001b[1;34m(self)\u001b[0m\n\u001b[0;32m   1445\u001b[0m \u001b[39m\"\u001b[39m\u001b[39mConnect to a host on a given (SSL) port.\u001b[39m\u001b[39m\"\u001b[39m\n\u001b[1;32m-> 1447\u001b[0m \u001b[39msuper\u001b[39;49m()\u001b[39m.\u001b[39;49mconnect()\n\u001b[0;32m   1449\u001b[0m \u001b[39mif\u001b[39;00m \u001b[39mself\u001b[39m\u001b[39m.\u001b[39m_tunnel_host:\n",
            "File \u001b[1;32mc:\\Users\\mailt\\anaconda3\\lib\\http\\client.py:946\u001b[0m, in \u001b[0;36mHTTPConnection.connect\u001b[1;34m(self)\u001b[0m\n\u001b[0;32m    945\u001b[0m \u001b[39m\u001b[39m\u001b[39m\"\"\"Connect to the host and port specified in __init__.\"\"\"\u001b[39;00m\n\u001b[1;32m--> 946\u001b[0m \u001b[39mself\u001b[39m\u001b[39m.\u001b[39msock \u001b[39m=\u001b[39m \u001b[39mself\u001b[39;49m\u001b[39m.\u001b[39;49m_create_connection(\n\u001b[0;32m    947\u001b[0m     (\u001b[39mself\u001b[39;49m\u001b[39m.\u001b[39;49mhost,\u001b[39mself\u001b[39;49m\u001b[39m.\u001b[39;49mport), \u001b[39mself\u001b[39;49m\u001b[39m.\u001b[39;49mtimeout, \u001b[39mself\u001b[39;49m\u001b[39m.\u001b[39;49msource_address)\n\u001b[0;32m    948\u001b[0m \u001b[39m# Might fail in OSs that don't implement TCP_NODELAY\u001b[39;00m\n",
            "File \u001b[1;32mc:\\Users\\mailt\\anaconda3\\lib\\socket.py:844\u001b[0m, in \u001b[0;36mcreate_connection\u001b[1;34m(address, timeout, source_address)\u001b[0m\n\u001b[0;32m    843\u001b[0m \u001b[39mtry\u001b[39;00m:\n\u001b[1;32m--> 844\u001b[0m     \u001b[39mraise\u001b[39;00m err\n\u001b[0;32m    845\u001b[0m \u001b[39mfinally\u001b[39;00m:\n\u001b[0;32m    846\u001b[0m     \u001b[39m# Break explicitly a reference cycle\u001b[39;00m\n",
            "File \u001b[1;32mc:\\Users\\mailt\\anaconda3\\lib\\socket.py:832\u001b[0m, in \u001b[0;36mcreate_connection\u001b[1;34m(address, timeout, source_address)\u001b[0m\n\u001b[0;32m    831\u001b[0m     sock\u001b[39m.\u001b[39mbind(source_address)\n\u001b[1;32m--> 832\u001b[0m sock\u001b[39m.\u001b[39;49mconnect(sa)\n\u001b[0;32m    833\u001b[0m \u001b[39m# Break explicitly a reference cycle\u001b[39;00m\n",
            "\u001b[1;31mConnectionRefusedError\u001b[0m: [WinError 10061] No connection could be made because the target machine actively refused it",
            "\nDuring handling of the above exception, another exception occurred:\n",
            "\u001b[1;31mURLError\u001b[0m                                  Traceback (most recent call last)",
            "Cell \u001b[1;32mIn[58], line 6\u001b[0m\n\u001b[0;32m      3\u001b[0m raw_url \u001b[39m=\u001b[39m \u001b[39m'\u001b[39m\u001b[39mhttps://raw.githubusercontent.com/FuTSA23/time-series-analysis-datasets/main/AirQualityUCI.csv\u001b[39m\u001b[39m'\u001b[39m\n\u001b[0;32m      4\u001b[0m \u001b[39m# date_parser = lambda x: pd.to_datetime(x, format=\"%d/%m/%Y\")\u001b[39;00m\n\u001b[1;32m----> 6\u001b[0m df \u001b[39m=\u001b[39m pd\u001b[39m.\u001b[39;49mread_csv(raw_url)\n",
            "File \u001b[1;32mc:\\Users\\mailt\\anaconda3\\lib\\site-packages\\pandas\\io\\parsers\\readers.py:912\u001b[0m, in \u001b[0;36mread_csv\u001b[1;34m(filepath_or_buffer, sep, delimiter, header, names, index_col, usecols, dtype, engine, converters, true_values, false_values, skipinitialspace, skiprows, skipfooter, nrows, na_values, keep_default_na, na_filter, verbose, skip_blank_lines, parse_dates, infer_datetime_format, keep_date_col, date_parser, date_format, dayfirst, cache_dates, iterator, chunksize, compression, thousands, decimal, lineterminator, quotechar, quoting, doublequote, escapechar, comment, encoding, encoding_errors, dialect, on_bad_lines, delim_whitespace, low_memory, memory_map, float_precision, storage_options, dtype_backend)\u001b[0m\n\u001b[0;32m    899\u001b[0m kwds_defaults \u001b[39m=\u001b[39m _refine_defaults_read(\n\u001b[0;32m    900\u001b[0m     dialect,\n\u001b[0;32m    901\u001b[0m     delimiter,\n\u001b[1;32m   (...)\u001b[0m\n\u001b[0;32m    908\u001b[0m     dtype_backend\u001b[39m=\u001b[39mdtype_backend,\n\u001b[0;32m    909\u001b[0m )\n\u001b[0;32m    910\u001b[0m kwds\u001b[39m.\u001b[39mupdate(kwds_defaults)\n\u001b[1;32m--> 912\u001b[0m \u001b[39mreturn\u001b[39;00m _read(filepath_or_buffer, kwds)\n",
            "File \u001b[1;32mc:\\Users\\mailt\\anaconda3\\lib\\site-packages\\pandas\\io\\parsers\\readers.py:577\u001b[0m, in \u001b[0;36m_read\u001b[1;34m(filepath_or_buffer, kwds)\u001b[0m\n\u001b[0;32m    574\u001b[0m _validate_names(kwds\u001b[39m.\u001b[39mget(\u001b[39m\"\u001b[39m\u001b[39mnames\u001b[39m\u001b[39m\"\u001b[39m, \u001b[39mNone\u001b[39;00m))\n\u001b[0;32m    576\u001b[0m \u001b[39m# Create the parser.\u001b[39;00m\n\u001b[1;32m--> 577\u001b[0m parser \u001b[39m=\u001b[39m TextFileReader(filepath_or_buffer, \u001b[39m*\u001b[39m\u001b[39m*\u001b[39mkwds)\n\u001b[0;32m    579\u001b[0m \u001b[39mif\u001b[39;00m chunksize \u001b[39mor\u001b[39;00m iterator:\n\u001b[0;32m    580\u001b[0m     \u001b[39mreturn\u001b[39;00m parser\n",
            "File \u001b[1;32mc:\\Users\\mailt\\anaconda3\\lib\\site-packages\\pandas\\io\\parsers\\readers.py:1407\u001b[0m, in \u001b[0;36mTextFileReader.__init__\u001b[1;34m(self, f, engine, **kwds)\u001b[0m\n\u001b[0;32m   1404\u001b[0m     \u001b[39mself\u001b[39m\u001b[39m.\u001b[39moptions[\u001b[39m\"\u001b[39m\u001b[39mhas_index_names\u001b[39m\u001b[39m\"\u001b[39m] \u001b[39m=\u001b[39m kwds[\u001b[39m\"\u001b[39m\u001b[39mhas_index_names\u001b[39m\u001b[39m\"\u001b[39m]\n\u001b[0;32m   1406\u001b[0m \u001b[39mself\u001b[39m\u001b[39m.\u001b[39mhandles: IOHandles \u001b[39m|\u001b[39m \u001b[39mNone\u001b[39;00m \u001b[39m=\u001b[39m \u001b[39mNone\u001b[39;00m\n\u001b[1;32m-> 1407\u001b[0m \u001b[39mself\u001b[39m\u001b[39m.\u001b[39m_engine \u001b[39m=\u001b[39m \u001b[39mself\u001b[39;49m\u001b[39m.\u001b[39;49m_make_engine(f, \u001b[39mself\u001b[39;49m\u001b[39m.\u001b[39;49mengine)\n",
            "File \u001b[1;32mc:\\Users\\mailt\\anaconda3\\lib\\site-packages\\pandas\\io\\parsers\\readers.py:1661\u001b[0m, in \u001b[0;36mTextFileReader._make_engine\u001b[1;34m(self, f, engine)\u001b[0m\n\u001b[0;32m   1659\u001b[0m     \u001b[39mif\u001b[39;00m \u001b[39m\"\u001b[39m\u001b[39mb\u001b[39m\u001b[39m\"\u001b[39m \u001b[39mnot\u001b[39;00m \u001b[39min\u001b[39;00m mode:\n\u001b[0;32m   1660\u001b[0m         mode \u001b[39m+\u001b[39m\u001b[39m=\u001b[39m \u001b[39m\"\u001b[39m\u001b[39mb\u001b[39m\u001b[39m\"\u001b[39m\n\u001b[1;32m-> 1661\u001b[0m \u001b[39mself\u001b[39m\u001b[39m.\u001b[39mhandles \u001b[39m=\u001b[39m get_handle(\n\u001b[0;32m   1662\u001b[0m     f,\n\u001b[0;32m   1663\u001b[0m     mode,\n\u001b[0;32m   1664\u001b[0m     encoding\u001b[39m=\u001b[39;49m\u001b[39mself\u001b[39;49m\u001b[39m.\u001b[39;49moptions\u001b[39m.\u001b[39;49mget(\u001b[39m\"\u001b[39;49m\u001b[39mencoding\u001b[39;49m\u001b[39m\"\u001b[39;49m, \u001b[39mNone\u001b[39;49;00m),\n\u001b[0;32m   1665\u001b[0m     compression\u001b[39m=\u001b[39;49m\u001b[39mself\u001b[39;49m\u001b[39m.\u001b[39;49moptions\u001b[39m.\u001b[39;49mget(\u001b[39m\"\u001b[39;49m\u001b[39mcompression\u001b[39;49m\u001b[39m\"\u001b[39;49m, \u001b[39mNone\u001b[39;49;00m),\n\u001b[0;32m   1666\u001b[0m     memory_map\u001b[39m=\u001b[39;49m\u001b[39mself\u001b[39;49m\u001b[39m.\u001b[39;49moptions\u001b[39m.\u001b[39;49mget(\u001b[39m\"\u001b[39;49m\u001b[39mmemory_map\u001b[39;49m\u001b[39m\"\u001b[39;49m, \u001b[39mFalse\u001b[39;49;00m),\n\u001b[0;32m   1667\u001b[0m     is_text\u001b[39m=\u001b[39;49mis_text,\n\u001b[0;32m   1668\u001b[0m     errors\u001b[39m=\u001b[39;49m\u001b[39mself\u001b[39;49m\u001b[39m.\u001b[39;49moptions\u001b[39m.\u001b[39;49mget(\u001b[39m\"\u001b[39;49m\u001b[39mencoding_errors\u001b[39;49m\u001b[39m\"\u001b[39;49m, \u001b[39m\"\u001b[39;49m\u001b[39mstrict\u001b[39;49m\u001b[39m\"\u001b[39;49m),\n\u001b[0;32m   1669\u001b[0m     storage_options\u001b[39m=\u001b[39;49m\u001b[39mself\u001b[39;49m\u001b[39m.\u001b[39;49moptions\u001b[39m.\u001b[39;49mget(\u001b[39m\"\u001b[39;49m\u001b[39mstorage_options\u001b[39;49m\u001b[39m\"\u001b[39;49m, \u001b[39mNone\u001b[39;49;00m),\n\u001b[0;32m   1670\u001b[0m )\n\u001b[0;32m   1671\u001b[0m \u001b[39massert\u001b[39;00m \u001b[39mself\u001b[39m\u001b[39m.\u001b[39mhandles \u001b[39mis\u001b[39;00m \u001b[39mnot\u001b[39;00m \u001b[39mNone\u001b[39;00m\n\u001b[0;32m   1672\u001b[0m f \u001b[39m=\u001b[39m \u001b[39mself\u001b[39m\u001b[39m.\u001b[39mhandles\u001b[39m.\u001b[39mhandle\n",
            "File \u001b[1;32mc:\\Users\\mailt\\anaconda3\\lib\\site-packages\\pandas\\io\\common.py:716\u001b[0m, in \u001b[0;36mget_handle\u001b[1;34m(path_or_buf, mode, encoding, compression, memory_map, is_text, errors, storage_options)\u001b[0m\n\u001b[0;32m    713\u001b[0m     codecs\u001b[39m.\u001b[39mlookup_error(errors)\n\u001b[0;32m    715\u001b[0m \u001b[39m# open URLs\u001b[39;00m\n\u001b[1;32m--> 716\u001b[0m ioargs \u001b[39m=\u001b[39m _get_filepath_or_buffer(\n\u001b[0;32m    717\u001b[0m     path_or_buf,\n\u001b[0;32m    718\u001b[0m     encoding\u001b[39m=\u001b[39;49mencoding,\n\u001b[0;32m    719\u001b[0m     compression\u001b[39m=\u001b[39;49mcompression,\n\u001b[0;32m    720\u001b[0m     mode\u001b[39m=\u001b[39;49mmode,\n\u001b[0;32m    721\u001b[0m     storage_options\u001b[39m=\u001b[39;49mstorage_options,\n\u001b[0;32m    722\u001b[0m )\n\u001b[0;32m    724\u001b[0m handle \u001b[39m=\u001b[39m ioargs\u001b[39m.\u001b[39mfilepath_or_buffer\n\u001b[0;32m    725\u001b[0m handles: \u001b[39mlist\u001b[39m[BaseBuffer]\n",
            "File \u001b[1;32mc:\\Users\\mailt\\anaconda3\\lib\\site-packages\\pandas\\io\\common.py:368\u001b[0m, in \u001b[0;36m_get_filepath_or_buffer\u001b[1;34m(filepath_or_buffer, encoding, compression, mode, storage_options)\u001b[0m\n\u001b[0;32m    366\u001b[0m \u001b[39m# assuming storage_options is to be interpreted as headers\u001b[39;00m\n\u001b[0;32m    367\u001b[0m req_info \u001b[39m=\u001b[39m urllib\u001b[39m.\u001b[39mrequest\u001b[39m.\u001b[39mRequest(filepath_or_buffer, headers\u001b[39m=\u001b[39mstorage_options)\n\u001b[1;32m--> 368\u001b[0m \u001b[39mwith\u001b[39;00m urlopen(req_info) \u001b[39mas\u001b[39;00m req:\n\u001b[0;32m    369\u001b[0m     content_encoding \u001b[39m=\u001b[39m req\u001b[39m.\u001b[39mheaders\u001b[39m.\u001b[39mget(\u001b[39m\"\u001b[39m\u001b[39mContent-Encoding\u001b[39m\u001b[39m\"\u001b[39m, \u001b[39mNone\u001b[39;00m)\n\u001b[0;32m    370\u001b[0m     \u001b[39mif\u001b[39;00m content_encoding \u001b[39m==\u001b[39m \u001b[39m\"\u001b[39m\u001b[39mgzip\u001b[39m\u001b[39m\"\u001b[39m:\n\u001b[0;32m    371\u001b[0m         \u001b[39m# Override compression based on Content-Encoding header\u001b[39;00m\n",
            "File \u001b[1;32mc:\\Users\\mailt\\anaconda3\\lib\\site-packages\\pandas\\io\\common.py:270\u001b[0m, in \u001b[0;36murlopen\u001b[1;34m(*args, **kwargs)\u001b[0m\n\u001b[0;32m    264\u001b[0m \u001b[39m\u001b[39m\u001b[39m\"\"\"\u001b[39;00m\n\u001b[0;32m    265\u001b[0m \u001b[39mLazy-import wrapper for stdlib urlopen, as that imports a big chunk of\u001b[39;00m\n\u001b[0;32m    266\u001b[0m \u001b[39mthe stdlib.\u001b[39;00m\n\u001b[0;32m    267\u001b[0m \u001b[39m\"\"\"\u001b[39;00m\n\u001b[0;32m    268\u001b[0m \u001b[39mimport\u001b[39;00m \u001b[39murllib\u001b[39;00m\u001b[39m.\u001b[39;00m\u001b[39mrequest\u001b[39;00m\n\u001b[1;32m--> 270\u001b[0m \u001b[39mreturn\u001b[39;00m urllib\u001b[39m.\u001b[39mrequest\u001b[39m.\u001b[39murlopen(\u001b[39m*\u001b[39margs, \u001b[39m*\u001b[39m\u001b[39m*\u001b[39mkwargs)\n",
            "File \u001b[1;32mc:\\Users\\mailt\\anaconda3\\lib\\urllib\\request.py:214\u001b[0m, in \u001b[0;36murlopen\u001b[1;34m(url, data, timeout, cafile, capath, cadefault, context)\u001b[0m\n\u001b[0;32m    212\u001b[0m \u001b[39melse\u001b[39;00m:\n\u001b[0;32m    213\u001b[0m     opener \u001b[39m=\u001b[39m _opener\n\u001b[1;32m--> 214\u001b[0m \u001b[39mreturn\u001b[39;00m opener\u001b[39m.\u001b[39;49mopen(url, data, timeout)\n",
            "File \u001b[1;32mc:\\Users\\mailt\\anaconda3\\lib\\urllib\\request.py:517\u001b[0m, in \u001b[0;36mOpenerDirector.open\u001b[1;34m(self, fullurl, data, timeout)\u001b[0m\n\u001b[0;32m    514\u001b[0m     req \u001b[39m=\u001b[39m meth(req)\n\u001b[0;32m    516\u001b[0m sys\u001b[39m.\u001b[39maudit(\u001b[39m'\u001b[39m\u001b[39murllib.Request\u001b[39m\u001b[39m'\u001b[39m, req\u001b[39m.\u001b[39mfull_url, req\u001b[39m.\u001b[39mdata, req\u001b[39m.\u001b[39mheaders, req\u001b[39m.\u001b[39mget_method())\n\u001b[1;32m--> 517\u001b[0m response \u001b[39m=\u001b[39m \u001b[39mself\u001b[39;49m\u001b[39m.\u001b[39;49m_open(req, data)\n\u001b[0;32m    519\u001b[0m \u001b[39m# post-process response\u001b[39;00m\n\u001b[0;32m    520\u001b[0m meth_name \u001b[39m=\u001b[39m protocol\u001b[39m+\u001b[39m\u001b[39m\"\u001b[39m\u001b[39m_response\u001b[39m\u001b[39m\"\u001b[39m\n",
            "File \u001b[1;32mc:\\Users\\mailt\\anaconda3\\lib\\urllib\\request.py:534\u001b[0m, in \u001b[0;36mOpenerDirector._open\u001b[1;34m(self, req, data)\u001b[0m\n\u001b[0;32m    531\u001b[0m     \u001b[39mreturn\u001b[39;00m result\n\u001b[0;32m    533\u001b[0m protocol \u001b[39m=\u001b[39m req\u001b[39m.\u001b[39mtype\n\u001b[1;32m--> 534\u001b[0m result \u001b[39m=\u001b[39m \u001b[39mself\u001b[39;49m\u001b[39m.\u001b[39;49m_call_chain(\u001b[39mself\u001b[39;49m\u001b[39m.\u001b[39;49mhandle_open, protocol, protocol \u001b[39m+\u001b[39;49m\n\u001b[0;32m    535\u001b[0m                           \u001b[39m'\u001b[39;49m\u001b[39m_open\u001b[39;49m\u001b[39m'\u001b[39;49m, req)\n\u001b[0;32m    536\u001b[0m \u001b[39mif\u001b[39;00m result:\n\u001b[0;32m    537\u001b[0m     \u001b[39mreturn\u001b[39;00m result\n",
            "File \u001b[1;32mc:\\Users\\mailt\\anaconda3\\lib\\urllib\\request.py:494\u001b[0m, in \u001b[0;36mOpenerDirector._call_chain\u001b[1;34m(self, chain, kind, meth_name, *args)\u001b[0m\n\u001b[0;32m    492\u001b[0m \u001b[39mfor\u001b[39;00m handler \u001b[39min\u001b[39;00m handlers:\n\u001b[0;32m    493\u001b[0m     func \u001b[39m=\u001b[39m \u001b[39mgetattr\u001b[39m(handler, meth_name)\n\u001b[1;32m--> 494\u001b[0m     result \u001b[39m=\u001b[39m func(\u001b[39m*\u001b[39;49margs)\n\u001b[0;32m    495\u001b[0m     \u001b[39mif\u001b[39;00m result \u001b[39mis\u001b[39;00m \u001b[39mnot\u001b[39;00m \u001b[39mNone\u001b[39;00m:\n\u001b[0;32m    496\u001b[0m         \u001b[39mreturn\u001b[39;00m result\n",
            "File \u001b[1;32mc:\\Users\\mailt\\anaconda3\\lib\\urllib\\request.py:1389\u001b[0m, in \u001b[0;36mHTTPSHandler.https_open\u001b[1;34m(self, req)\u001b[0m\n\u001b[0;32m   1388\u001b[0m \u001b[39mdef\u001b[39;00m \u001b[39mhttps_open\u001b[39m(\u001b[39mself\u001b[39m, req):\n\u001b[1;32m-> 1389\u001b[0m     \u001b[39mreturn\u001b[39;00m \u001b[39mself\u001b[39;49m\u001b[39m.\u001b[39;49mdo_open(http\u001b[39m.\u001b[39;49mclient\u001b[39m.\u001b[39;49mHTTPSConnection, req,\n\u001b[0;32m   1390\u001b[0m         context\u001b[39m=\u001b[39;49m\u001b[39mself\u001b[39;49m\u001b[39m.\u001b[39;49m_context, check_hostname\u001b[39m=\u001b[39;49m\u001b[39mself\u001b[39;49m\u001b[39m.\u001b[39;49m_check_hostname)\n",
            "File \u001b[1;32mc:\\Users\\mailt\\anaconda3\\lib\\urllib\\request.py:1349\u001b[0m, in \u001b[0;36mAbstractHTTPHandler.do_open\u001b[1;34m(self, http_class, req, **http_conn_args)\u001b[0m\n\u001b[0;32m   1346\u001b[0m         h\u001b[39m.\u001b[39mrequest(req\u001b[39m.\u001b[39mget_method(), req\u001b[39m.\u001b[39mselector, req\u001b[39m.\u001b[39mdata, headers,\n\u001b[0;32m   1347\u001b[0m                   encode_chunked\u001b[39m=\u001b[39mreq\u001b[39m.\u001b[39mhas_header(\u001b[39m'\u001b[39m\u001b[39mTransfer-encoding\u001b[39m\u001b[39m'\u001b[39m))\n\u001b[0;32m   1348\u001b[0m     \u001b[39mexcept\u001b[39;00m \u001b[39mOSError\u001b[39;00m \u001b[39mas\u001b[39;00m err: \u001b[39m# timeout error\u001b[39;00m\n\u001b[1;32m-> 1349\u001b[0m         \u001b[39mraise\u001b[39;00m URLError(err)\n\u001b[0;32m   1350\u001b[0m     r \u001b[39m=\u001b[39m h\u001b[39m.\u001b[39mgetresponse()\n\u001b[0;32m   1351\u001b[0m \u001b[39mexcept\u001b[39;00m:\n",
            "\u001b[1;31mURLError\u001b[0m: <urlopen error [WinError 10061] No connection could be made because the target machine actively refused it>"
          ]
        }
      ],
      "source": [
        "url = 'https://github.com/FuTSA23/time-series-analysis-datasets/blob/main/AirQualityUCI.csv'\n",
        "\n",
        "raw_url = 'https://raw.githubusercontent.com/FuTSA23/time-series-analysis-datasets/main/AirQualityUCI.csv'\n",
        "# date_parser = lambda x: pd.to_datetime(x, format=\"%d/%m/%Y\")\n",
        "\n",
        "df = pd.read_csv(raw_url)"
      ]
    },
    {
      "attachments": {},
      "cell_type": "markdown",
      "id": "2c968bed-9693-44e0-b537-feca8fb867bf",
      "metadata": {
        "id": "2c968bed-9693-44e0-b537-feca8fb867bf"
      },
      "source": [
        "## Reading from HTML\n",
        "pandas offers an elegant way to read HTML tables and convert the content into a pandas \n",
        "DataFrame using the pandas.read_html() function: \n",
        "* In the following Method, we will extract HTML tables from Wikipedia for COVID-19 \n",
        "pandemic tracking cases by country and by territory (https://en.wikipedia.org/wiki/COVID-19_pandemic_by_country_and_territory)"
      ]
    },
    {
      "cell_type": "code",
      "execution_count": 59,
      "id": "ae29ee75-aa23-47d6-80c4-a7cf64c1105d",
      "metadata": {
        "id": "ae29ee75-aa23-47d6-80c4-a7cf64c1105d",
        "outputId": "98fe9992-47ea-4c6b-f438-623ea6daec89"
      },
      "outputs": [
        {
          "name": "stdout",
          "output_type": "stream",
          "text": [
            "68\n"
          ]
        }
      ],
      "source": [
        "url = \"https://en.wikipedia.org/wiki/COVID-19_pandemic_by_country_and_territory\"\n",
        "results = pd.read_html(url)\n",
        "print(len(results))"
      ]
    },
    {
      "cell_type": "code",
      "execution_count": 61,
      "id": "15dc2aae-add1-49e6-9e4f-ef5d61cd70fb",
      "metadata": {
        "id": "15dc2aae-add1-49e6-9e4f-ef5d61cd70fb"
      },
      "outputs": [],
      "source": [
        "# for i, k in enumerate(results):\n",
        "#     print(i)\n",
        "#     display(k.head())"
      ]
    },
    {
      "cell_type": "code",
      "execution_count": 62,
      "id": "f414af1b-eb6d-48c6-81ff-b565dc7c276e",
      "metadata": {
        "id": "f414af1b-eb6d-48c6-81ff-b565dc7c276e",
        "outputId": "6152dd4f-fcee-4a3a-dd3b-e128a960f013"
      },
      "outputs": [
        {
          "data": {
            "text/plain": [
              "Index(['Region[29]', 'Total cases', 'Total deaths', 'Cases per million',\n",
              "       'Deaths per million', 'Current weekly cases', 'Current weekly deaths',\n",
              "       'Population millions', 'Vaccinated %[30]'],\n",
              "      dtype='object')"
            ]
          },
          "execution_count": 62,
          "metadata": {},
          "output_type": "execute_result"
        }
      ],
      "source": [
        "df = results[15]\n",
        "df.columns"
      ]
    },
    {
      "cell_type": "code",
      "execution_count": 63,
      "id": "37776cd9-8f76-4118-accb-ddec1375364b",
      "metadata": {
        "id": "37776cd9-8f76-4118-accb-ddec1375364b",
        "outputId": "a1b271a2-7adb-4f25-9c03-f574a3f74637"
      },
      "outputs": [
        {
          "data": {
            "text/html": [
              "<div>\n",
              "<style scoped>\n",
              "    .dataframe tbody tr th:only-of-type {\n",
              "        vertical-align: middle;\n",
              "    }\n",
              "\n",
              "    .dataframe tbody tr th {\n",
              "        vertical-align: top;\n",
              "    }\n",
              "\n",
              "    .dataframe thead th {\n",
              "        text-align: right;\n",
              "    }\n",
              "</style>\n",
              "<table border=\"1\" class=\"dataframe\">\n",
              "  <thead>\n",
              "    <tr style=\"text-align: right;\">\n",
              "      <th></th>\n",
              "      <th>Total cases</th>\n",
              "      <th>Total deaths</th>\n",
              "      <th>Cases per million</th>\n",
              "    </tr>\n",
              "  </thead>\n",
              "  <tbody>\n",
              "    <tr>\n",
              "      <th>0</th>\n",
              "      <td>179537758</td>\n",
              "      <td>1185108</td>\n",
              "      <td>401363</td>\n",
              "    </tr>\n",
              "    <tr>\n",
              "      <th>1</th>\n",
              "      <td>103783777</td>\n",
              "      <td>1133607</td>\n",
              "      <td>281404</td>\n",
              "    </tr>\n",
              "    <tr>\n",
              "      <th>2</th>\n",
              "      <td>57721948</td>\n",
              "      <td>498259</td>\n",
              "      <td>247054</td>\n",
              "    </tr>\n",
              "    <tr>\n",
              "      <th>3</th>\n",
              "      <td>65835789</td>\n",
              "      <td>1313061</td>\n",
              "      <td>153151</td>\n",
              "    </tr>\n",
              "    <tr>\n",
              "      <th>4</th>\n",
              "      <td>25646533</td>\n",
              "      <td>434988</td>\n",
              "      <td>108307</td>\n",
              "    </tr>\n",
              "  </tbody>\n",
              "</table>\n",
              "</div>"
            ],
            "text/plain": [
              "   Total cases  Total deaths  Cases per million\n",
              "0    179537758       1185108             401363\n",
              "1    103783777       1133607             281404\n",
              "2     57721948        498259             247054\n",
              "3     65835789       1313061             153151\n",
              "4     25646533        434988             108307"
            ]
          },
          "execution_count": 63,
          "metadata": {},
          "output_type": "execute_result"
        }
      ],
      "source": [
        "df[['Total cases', 'Total deaths', 'Cases per million']].head()"
      ]
    },
    {
      "cell_type": "markdown",
      "id": "8e5c18bb-b7e3-4d54-9338-9631f4dc4cbc",
      "metadata": {
        "id": "8e5c18bb-b7e3-4d54-9338-9631f4dc4cbc"
      },
      "source": [
        "## Example how `read_html()` works"
      ]
    },
    {
      "cell_type": "code",
      "execution_count": 64,
      "id": "2b53a57e-8a60-4a56-bfda-45c30e565d2a",
      "metadata": {
        "id": "2b53a57e-8a60-4a56-bfda-45c30e565d2a",
        "outputId": "7241cf14-f8dc-41d8-ffbd-682acfb4f128"
      },
      "outputs": [
        {
          "data": {
            "text/html": [
              "<div>\n",
              "<style scoped>\n",
              "    .dataframe tbody tr th:only-of-type {\n",
              "        vertical-align: middle;\n",
              "    }\n",
              "\n",
              "    .dataframe tbody tr th {\n",
              "        vertical-align: top;\n",
              "    }\n",
              "\n",
              "    .dataframe thead th {\n",
              "        text-align: right;\n",
              "    }\n",
              "</style>\n",
              "<table border=\"1\" class=\"dataframe\">\n",
              "  <thead>\n",
              "    <tr style=\"text-align: right;\">\n",
              "      <th></th>\n",
              "      <th>Ticker</th>\n",
              "      <th>Price</th>\n",
              "    </tr>\n",
              "  </thead>\n",
              "  <tbody>\n",
              "    <tr>\n",
              "      <th>0</th>\n",
              "      <td>MSFT</td>\n",
              "      <td>230</td>\n",
              "    </tr>\n",
              "    <tr>\n",
              "      <th>1</th>\n",
              "      <td>APPL</td>\n",
              "      <td>300</td>\n",
              "    </tr>\n",
              "    <tr>\n",
              "      <th>2</th>\n",
              "      <td>MSTR</td>\n",
              "      <td>120</td>\n",
              "    </tr>\n",
              "  </tbody>\n",
              "</table>\n",
              "</div>"
            ],
            "text/plain": [
              "  Ticker  Price\n",
              "0   MSFT    230\n",
              "1   APPL    300\n",
              "2   MSTR    120"
            ]
          },
          "execution_count": 64,
          "metadata": {},
          "output_type": "execute_result"
        }
      ],
      "source": [
        "import pandas as pd\n",
        "html = \"\"\"\n",
        " <table>\n",
        "   <tr>\n",
        "     <th>Ticker</th>\n",
        "     <th>Price</th>\n",
        "   </tr>\n",
        "   <tr>\n",
        "     <td>MSFT</td>\n",
        "     <td>230</td>\n",
        "   </tr>\n",
        "   <tr>\n",
        "     <td>APPL</td>\n",
        "     <td>300</td>\n",
        "   </tr>\n",
        "     <tr>\n",
        "     <td>MSTR</td>\n",
        "     <td>120</td>\n",
        "   </tr>\n",
        " </table>\n",
        "\n",
        " </body>\n",
        " </html>\n",
        " \"\"\"\n",
        "\n",
        "df = pd.read_html(html)\n",
        "df[0]\n"
      ]
    },
    {
      "attachments": {},
      "cell_type": "markdown",
      "id": "2R96mN-wOHiN",
      "metadata": {
        "id": "2R96mN-wOHiN"
      },
      "source": [
        "In the preceding code, the `read_html()` function parsed the HTML code and converted \n",
        "the HTML table into a `pandas DataFrame`. The headers between the `<th>` and `</th>`\n",
        "tags represent the `column names` of the DataFrame, and the content between the `<tr></td>` and `</td></tr>` tags represent the row data of the DataFrame. "
      ]
    },
    {
      "attachments": {},
      "cell_type": "markdown",
      "id": "aae256fc-d806-4a18-af3d-9e61ca99060f",
      "metadata": {
        "id": "aae256fc-d806-4a18-af3d-9e61ca99060f"
      },
      "source": [
        "## Using `attr` option in `read.html()`\n",
        "The `read_html()` function has an optional `attr` argument, which takes a dictionary \n",
        "of `valid HTML <table> attributes`, such as `id or class`. For example, you can use \n",
        "the `attr` parameter to narrow down the tables returned to those that match the class\n",
        "attribute sortable as in `<table class=\"sortable\">`. The `read_html` function will inspect the entire HTML page to ensure you target the right set of attributes."
      ]
    },
    {
      "cell_type": "code",
      "execution_count": 65,
      "id": "c87c19b8-4054-487c-8eac-038a2d8337e5",
      "metadata": {
        "id": "c87c19b8-4054-487c-8eac-038a2d8337e5"
      },
      "outputs": [],
      "source": [
        "#!conda install html5lib beautifulSoup4\n",
        "!pip install html5lib beautifulSoup4 --quiet"
      ]
    },
    {
      "cell_type": "code",
      "execution_count": 66,
      "id": "8f591292-b34a-4186-93ff-03a9b61a497c",
      "metadata": {
        "id": "8f591292-b34a-4186-93ff-03a9b61a497c",
        "outputId": "c589aa41-e504-4b4a-9ea0-fee3ef98f0eb"
      },
      "outputs": [
        {
          "data": {
            "text/plain": [
              "5"
            ]
          },
          "execution_count": 66,
          "metadata": {},
          "output_type": "execute_result"
        }
      ],
      "source": [
        "import pandas as pd\n",
        "url = \"https://en.wikipedia.org/wiki/COVID-19_pandemic_by_country_and_territory\"\n",
        "df = pd.read_html(url, attrs={'class': 'sortable'})\n",
        "len(df)"
      ]
    },
    {
      "cell_type": "code",
      "execution_count": 67,
      "id": "60e2b0ab-30fc-47a1-9d94-650b7c5a72a9",
      "metadata": {
        "id": "60e2b0ab-30fc-47a1-9d94-650b7c5a72a9",
        "outputId": "d16c48be-8707-44d4-dfae-67e03ca2d82a"
      },
      "outputs": [
        {
          "data": {
            "text/plain": [
              "Index(['Region[29]', 'Total cases', 'Total deaths', 'Cases per million',\n",
              "       'Deaths per million', 'Current weekly cases', 'Current weekly deaths',\n",
              "       'Population millions', 'Vaccinated %[30]'],\n",
              "      dtype='object')"
            ]
          },
          "execution_count": 67,
          "metadata": {},
          "output_type": "execute_result"
        }
      ],
      "source": [
        "df[3].columns"
      ]
    }
  ],
  "metadata": {
    "colab": {
      "provenance": []
    },
    "kernelspec": {
      "display_name": "Python 3 (ipykernel)",
      "language": "python",
      "name": "python3"
    },
    "language_info": {
      "codemirror_mode": {
        "name": "ipython",
        "version": 3
      },
      "file_extension": ".py",
      "mimetype": "text/x-python",
      "name": "python",
      "nbconvert_exporter": "python",
      "pygments_lexer": "ipython3",
      "version": "3.9.16"
    }
  },
  "nbformat": 4,
  "nbformat_minor": 5
}
