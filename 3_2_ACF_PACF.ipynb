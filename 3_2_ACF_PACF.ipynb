{
 "cells": [
  {
   "attachments": {},
   "cell_type": "markdown",
   "metadata": {},
   "source": [
    "### Autocorrelation Function and Partial Autocorrelation Function\n",
    "\n",
    "1. Autocorrelation Function (ACF)\n",
    "   1. [Introduction](https://www.linkedin.com/pulse/time-series-analysis-short-introduction-/)\n",
    "   2. [How autocorrelation works](https://www.youtube.com/watch?v=ZjaBn93YPWo&pp=ygUPYXV0b2NvcnJlbGF0aW9u&ab_channel=BrandonRohrer)\n",
    "   3. [Interpreting ACF](https://youtu.be/gDwx3RPUfPw)\n",
    "2. Partial Autocorrelation Function (PACF)\n",
    "   1. [Partial vs Total](https://youtu.be/R-oWTWdS1Jg)\n",
    "   2. [ACF and PACF](https://youtu.be/K6_XFX171zU)"
   ]
  },
  {
   "attachments": {},
   "cell_type": "markdown",
   "metadata": {},
   "source": [
    "Correlograms, autocorrelations: https://www.youtube.com/watch?v=Aft25mI1ffw&ab_channel=Gmaz "
   ]
  },
  {
   "cell_type": "code",
   "execution_count": null,
   "metadata": {},
   "outputs": [],
   "source": []
  }
 ],
 "metadata": {
  "language_info": {
   "name": "python"
  },
  "orig_nbformat": 4
 },
 "nbformat": 4,
 "nbformat_minor": 2
}
